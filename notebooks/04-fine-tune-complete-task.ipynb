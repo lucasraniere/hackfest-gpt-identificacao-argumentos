{
 "cells": [
  {
   "cell_type": "markdown",
   "id": "03c32722-1177-4025-bbd0-8a0ab7ffc688",
   "metadata": {},
   "source": [
    "## Fine tune GPT complete task"
   ]
  },
  {
   "cell_type": "code",
   "execution_count": 1,
   "id": "3056be3d-b8b1-49b8-8997-08ed489b9147",
   "metadata": {
    "execution": {
     "iopub.execute_input": "2023-04-14T13:59:51.262052Z",
     "iopub.status.busy": "2023-04-14T13:59:51.261907Z",
     "iopub.status.idle": "2023-04-14T13:59:51.845745Z",
     "shell.execute_reply": "2023-04-14T13:59:51.845369Z",
     "shell.execute_reply.started": "2023-04-14T13:59:51.262041Z"
    },
    "tags": []
   },
   "outputs": [],
   "source": [
    "import sys, os, openai\n",
    "import pandas as pd\n",
    "from unidecode import unidecode\n",
    "from sklearn.model_selection import train_test_split\n",
    "sys.path.insert(1, '../')\n",
    "from auth import auth\n",
    "os.environ['OPENAI_API_KEY'] = auth.SECRET_KEY\n",
    "openai.api_key = auth.SECRET_KEY"
   ]
  },
  {
   "cell_type": "markdown",
   "id": "60a3012b-69ae-44ad-be2c-20d87dc2170c",
   "metadata": {},
   "source": [
    "### Data"
   ]
  },
  {
   "cell_type": "code",
   "execution_count": 2,
   "id": "0a69b5d8-5406-4667-b0d6-4e79c1ca5ca6",
   "metadata": {
    "execution": {
     "iopub.execute_input": "2023-04-14T13:59:51.928962Z",
     "iopub.status.busy": "2023-04-14T13:59:51.928472Z",
     "iopub.status.idle": "2023-04-14T13:59:51.934797Z",
     "shell.execute_reply": "2023-04-14T13:59:51.934177Z",
     "shell.execute_reply.started": "2023-04-14T13:59:51.928938Z"
    },
    "tags": []
   },
   "outputs": [
    {
     "name": "stdout",
     "output_type": "stream",
     "text": [
      "\n",
      "Number of essays: 402\n",
      "Number of annotations: 402\n",
      "\n"
     ]
    }
   ],
   "source": [
    "DATA_PATH = '../data/essays/'\n",
    "\n",
    "essays = list()\n",
    "annotations = list()\n",
    "\n",
    "for f in os.listdir(DATA_PATH):\n",
    "    if f.endswith('.txt'):\n",
    "        essays.append(f)\n",
    "    elif f.endswith('.ann'):\n",
    "        annotations.append(f)\n",
    "\n",
    "essays.sort()\n",
    "annotations.sort()\n",
    "\n",
    "print(f'''\n",
    "Number of essays: {len(essays)}\n",
    "Number of annotations: {len(annotations)}\n",
    "''')"
   ]
  },
  {
   "cell_type": "code",
   "execution_count": 3,
   "id": "5b02f9ae-912c-409c-bc61-5e5091cd645e",
   "metadata": {
    "execution": {
     "iopub.execute_input": "2023-04-14T13:59:53.519604Z",
     "iopub.status.busy": "2023-04-14T13:59:53.519447Z",
     "iopub.status.idle": "2023-04-14T13:59:53.588849Z",
     "shell.execute_reply": "2023-04-14T13:59:53.588576Z",
     "shell.execute_reply.started": "2023-04-14T13:59:53.519593Z"
    },
    "tags": []
   },
   "outputs": [
    {
     "data": {
      "text/plain": [
       "(402, 2)"
      ]
     },
     "execution_count": 3,
     "metadata": {},
     "output_type": "execute_result"
    }
   ],
   "source": [
    "data = list()\n",
    "\n",
    "for i in range(len(essays)):\n",
    "    with open(DATA_PATH+essays[i], 'r') as e:\n",
    "        prompt = e.read()\n",
    "    with open(DATA_PATH+annotations[i], 'r') as a:\n",
    "        completion = a.read()\n",
    "    data.append((prompt, completion))\n",
    "\n",
    "data_df = pd.DataFrame(columns=['prompt', 'completion'], data=data)\n",
    "data_df.shape"
   ]
  },
  {
   "cell_type": "code",
   "execution_count": 4,
   "id": "ee9e89d5-b8e0-47e7-bb0e-50cb4be1cca2",
   "metadata": {
    "execution": {
     "iopub.execute_input": "2023-04-14T13:59:54.963727Z",
     "iopub.status.busy": "2023-04-14T13:59:54.963514Z",
     "iopub.status.idle": "2023-04-14T13:59:54.974751Z",
     "shell.execute_reply": "2023-04-14T13:59:54.974252Z",
     "shell.execute_reply.started": "2023-04-14T13:59:54.963712Z"
    },
    "tags": []
   },
   "outputs": [
    {
     "data": {
      "text/html": [
       "<div>\n",
       "<style scoped>\n",
       "    .dataframe tbody tr th:only-of-type {\n",
       "        vertical-align: middle;\n",
       "    }\n",
       "\n",
       "    .dataframe tbody tr th {\n",
       "        vertical-align: top;\n",
       "    }\n",
       "\n",
       "    .dataframe thead th {\n",
       "        text-align: right;\n",
       "    }\n",
       "</style>\n",
       "<table border=\"1\" class=\"dataframe\">\n",
       "  <thead>\n",
       "    <tr style=\"text-align: right;\">\n",
       "      <th></th>\n",
       "      <th>prompt</th>\n",
       "      <th>completion</th>\n",
       "    </tr>\n",
       "  </thead>\n",
       "  <tbody>\n",
       "    <tr>\n",
       "      <th>0</th>\n",
       "      <td>Should students be taught to compete or to coo...</td>\n",
       "      <td>T1\\tMajorClaim 503 575\\twe should attach more ...</td>\n",
       "    </tr>\n",
       "    <tr>\n",
       "      <th>1</th>\n",
       "      <td>More people are migrating to other countries t...</td>\n",
       "      <td>T1\\tMajorClaim 391 489\\tthey are able to susta...</td>\n",
       "    </tr>\n",
       "    <tr>\n",
       "      <th>2</th>\n",
       "      <td>International tourism is now more common than ...</td>\n",
       "      <td>T1\\tMajorClaim 352 475\\tit has contributed to ...</td>\n",
       "    </tr>\n",
       "    <tr>\n",
       "      <th>3</th>\n",
       "      <td>International tourism is now more common than ...</td>\n",
       "      <td>T1\\tMajorClaim 262 376\\tthis industry has affe...</td>\n",
       "    </tr>\n",
       "    <tr>\n",
       "      <th>4</th>\n",
       "      <td>Living and studying overseas\\n\\nIt is every st...</td>\n",
       "      <td>T1\\tMajorClaim 286 359\\tone who studies overse...</td>\n",
       "    </tr>\n",
       "  </tbody>\n",
       "</table>\n",
       "</div>"
      ],
      "text/plain": [
       "                                              prompt  \\\n",
       "0  Should students be taught to compete or to coo...   \n",
       "1  More people are migrating to other countries t...   \n",
       "2  International tourism is now more common than ...   \n",
       "3  International tourism is now more common than ...   \n",
       "4  Living and studying overseas\\n\\nIt is every st...   \n",
       "\n",
       "                                          completion  \n",
       "0  T1\\tMajorClaim 503 575\\twe should attach more ...  \n",
       "1  T1\\tMajorClaim 391 489\\tthey are able to susta...  \n",
       "2  T1\\tMajorClaim 352 475\\tit has contributed to ...  \n",
       "3  T1\\tMajorClaim 262 376\\tthis industry has affe...  \n",
       "4  T1\\tMajorClaim 286 359\\tone who studies overse...  "
      ]
     },
     "execution_count": 4,
     "metadata": {},
     "output_type": "execute_result"
    }
   ],
   "source": [
    "data_df.head()"
   ]
  },
  {
   "cell_type": "code",
   "execution_count": 5,
   "id": "25de2a1a-f56d-42c4-9a31-2cdc57e564f7",
   "metadata": {
    "execution": {
     "iopub.execute_input": "2023-04-14T13:59:55.835593Z",
     "iopub.status.busy": "2023-04-14T13:59:55.835127Z",
     "iopub.status.idle": "2023-04-14T13:59:55.864372Z",
     "shell.execute_reply": "2023-04-14T13:59:55.864104Z",
     "shell.execute_reply.started": "2023-04-14T13:59:55.835566Z"
    },
    "tags": []
   },
   "outputs": [
    {
     "data": {
      "text/html": [
       "<div>\n",
       "<style scoped>\n",
       "    .dataframe tbody tr th:only-of-type {\n",
       "        vertical-align: middle;\n",
       "    }\n",
       "\n",
       "    .dataframe tbody tr th {\n",
       "        vertical-align: top;\n",
       "    }\n",
       "\n",
       "    .dataframe thead th {\n",
       "        text-align: right;\n",
       "    }\n",
       "</style>\n",
       "<table border=\"1\" class=\"dataframe\">\n",
       "  <thead>\n",
       "    <tr style=\"text-align: right;\">\n",
       "      <th></th>\n",
       "      <th>prompt</th>\n",
       "      <th>completion</th>\n",
       "    </tr>\n",
       "  </thead>\n",
       "  <tbody>\n",
       "    <tr>\n",
       "      <th>0</th>\n",
       "      <td>Analyse the following essay:\\n\\nShould student...</td>\n",
       "      <td>T1\\tMajorClaim 503 575\\twe should attach more...</td>\n",
       "    </tr>\n",
       "    <tr>\n",
       "      <th>1</th>\n",
       "      <td>Analyse the following essay:\\n\\nMore people ar...</td>\n",
       "      <td>T1\\tMajorClaim 391 489\\tthey are able to sust...</td>\n",
       "    </tr>\n",
       "    <tr>\n",
       "      <th>2</th>\n",
       "      <td>Analyse the following essay:\\n\\nInternational ...</td>\n",
       "      <td>T1\\tMajorClaim 352 475\\tit has contributed to...</td>\n",
       "    </tr>\n",
       "    <tr>\n",
       "      <th>3</th>\n",
       "      <td>Analyse the following essay:\\n\\nInternational ...</td>\n",
       "      <td>T1\\tMajorClaim 262 376\\tthis industry has aff...</td>\n",
       "    </tr>\n",
       "    <tr>\n",
       "      <th>4</th>\n",
       "      <td>Analyse the following essay:\\n\\nLiving and stu...</td>\n",
       "      <td>T1\\tMajorClaim 286 359\\tone who studies overs...</td>\n",
       "    </tr>\n",
       "  </tbody>\n",
       "</table>\n",
       "</div>"
      ],
      "text/plain": [
       "                                              prompt  \\\n",
       "0  Analyse the following essay:\\n\\nShould student...   \n",
       "1  Analyse the following essay:\\n\\nMore people ar...   \n",
       "2  Analyse the following essay:\\n\\nInternational ...   \n",
       "3  Analyse the following essay:\\n\\nInternational ...   \n",
       "4  Analyse the following essay:\\n\\nLiving and stu...   \n",
       "\n",
       "                                          completion  \n",
       "0   T1\\tMajorClaim 503 575\\twe should attach more...  \n",
       "1   T1\\tMajorClaim 391 489\\tthey are able to sust...  \n",
       "2   T1\\tMajorClaim 352 475\\tit has contributed to...  \n",
       "3   T1\\tMajorClaim 262 376\\tthis industry has aff...  \n",
       "4   T1\\tMajorClaim 286 359\\tone who studies overs...  "
      ]
     },
     "execution_count": 5,
     "metadata": {},
     "output_type": "execute_result"
    }
   ],
   "source": [
    "data_df['prompt'] = data_df['prompt'].apply(lambda x: unidecode('Analyse the following essay:\\n\\n'+x.rstrip()+'\\n\\n###\\n\\n'))\n",
    "data_df['completion'] = data_df['completion'].apply(lambda x: unidecode(' '+x.rstrip()+' END'))\n",
    "\n",
    "data_df.head()"
   ]
  },
  {
   "cell_type": "code",
   "execution_count": 6,
   "id": "8b290932-1752-4b78-8e73-ab50b2ba145b",
   "metadata": {
    "execution": {
     "iopub.execute_input": "2023-04-13T20:36:53.251325Z",
     "iopub.status.busy": "2023-04-13T20:36:53.251122Z",
     "iopub.status.idle": "2023-04-13T20:36:53.253830Z",
     "shell.execute_reply": "2023-04-13T20:36:53.253472Z",
     "shell.execute_reply.started": "2023-04-13T20:36:53.251312Z"
    },
    "tags": []
   },
   "outputs": [
    {
     "name": "stdout",
     "output_type": "stream",
     "text": [
      "Analyse the following essay:\n",
      "\n",
      "Should students be taught to compete or to cooperate?\n",
      "\n",
      "It is always said that competition can effectively promote the development of economy. In order to survive in the competition, companies continue to improve their products and service, and as a result, the whole society prospers. However, when we discuss the issue of competition or cooperation, what we are concerned about is not the whole society, but the development of an individual's whole life. From this point of view, I firmly believe that we should attach more importance to cooperation during primary education.\n",
      "First of all, through cooperation, children can learn about interpersonal skills which are significant in the future life of all students. What we acquired from team work is not only how to achieve the same goal with others but more importantly, how to get along with others. During the process of cooperation, children can learn about how to listen to opinions of others, how to communicate with others, how to think comprehensively, and even how to compromise with other team members when conflicts occurred. All of these skills help them to get on well with other people and will benefit them for the whole life.\n",
      "On the other hand, the significance of competition is that how to become more excellence to gain the victory. Hence it is always said that competition makes the society more effective. However, when we consider about the question that how to win the game, we always find that we need the cooperation. The greater our goal is, the more competition we need. Take Olympic games which is a form of competition for instance, it is hard to imagine how an athlete could win the game without the training of his or her coach, and the help of other professional staffs such as the people who take care of his diet, and those who are in charge of the medical care. The winner is the athlete but the success belongs to the whole team. Therefore without the cooperation, there would be no victory of competition.\n",
      "Consequently, no matter from the view of individual development or the relationship between competition and cooperation we can receive the same conclusion that a more cooperative attitudes towards life is more profitable in one's success.\n",
      "\n",
      "###\n",
      "\n",
      "\n"
     ]
    }
   ],
   "source": [
    "print(data_df['prompt'][0])"
   ]
  },
  {
   "cell_type": "code",
   "execution_count": 6,
   "id": "584f83c3-c743-4d76-88ab-23949dde40a3",
   "metadata": {
    "execution": {
     "iopub.execute_input": "2023-04-14T14:00:07.000596Z",
     "iopub.status.busy": "2023-04-14T14:00:07.000177Z",
     "iopub.status.idle": "2023-04-14T14:00:07.002958Z",
     "shell.execute_reply": "2023-04-14T14:00:07.002706Z",
     "shell.execute_reply.started": "2023-04-14T14:00:07.000582Z"
    },
    "tags": []
   },
   "outputs": [
    {
     "data": {
      "text/plain": [
       "\"Analyse the following essay:\\n\\nShould students be taught to compete or to cooperate?\\n\\nIt is always said that competition can effectively promote the development of economy. In order to survive in the competition, companies continue to improve their products and service, and as a result, the whole society prospers. However, when we discuss the issue of competition or cooperation, what we are concerned about is not the whole society, but the development of an individual's whole life. From this point of view, I firmly believe that we should attach more importance to cooperation during primary education.\\nFirst of all, through cooperation, children can learn about interpersonal skills which are significant in the future life of all students. What we acquired from team work is not only how to achieve the same goal with others but more importantly, how to get along with others. During the process of cooperation, children can learn about how to listen to opinions of others, how to communicate with others, how to think comprehensively, and even how to compromise with other team members when conflicts occurred. All of these skills help them to get on well with other people and will benefit them for the whole life.\\nOn the other hand, the significance of competition is that how to become more excellence to gain the victory. Hence it is always said that competition makes the society more effective. However, when we consider about the question that how to win the game, we always find that we need the cooperation. The greater our goal is, the more competition we need. Take Olympic games which is a form of competition for instance, it is hard to imagine how an athlete could win the game without the training of his or her coach, and the help of other professional staffs such as the people who take care of his diet, and those who are in charge of the medical care. The winner is the athlete but the success belongs to the whole team. Therefore without the cooperation, there would be no victory of competition.\\nConsequently, no matter from the view of individual development or the relationship between competition and cooperation we can receive the same conclusion that a more cooperative attitudes towards life is more profitable in one's success.\\n\\n###\\n\\n\""
      ]
     },
     "execution_count": 6,
     "metadata": {},
     "output_type": "execute_result"
    }
   ],
   "source": [
    "data_df['prompt'][0]"
   ]
  },
  {
   "cell_type": "code",
   "execution_count": 7,
   "id": "7a28aa0d-19af-493b-88cb-7dacb3b3008a",
   "metadata": {
    "execution": {
     "iopub.execute_input": "2023-04-13T17:11:43.882274Z",
     "iopub.status.busy": "2023-04-13T17:11:43.881790Z",
     "iopub.status.idle": "2023-04-13T17:11:43.884673Z",
     "shell.execute_reply": "2023-04-13T17:11:43.884304Z",
     "shell.execute_reply.started": "2023-04-13T17:11:43.882261Z"
    },
    "tags": []
   },
   "outputs": [
    {
     "name": "stdout",
     "output_type": "stream",
     "text": [
      " T1\tMajorClaim 503 575\twe should attach more importance to cooperation during primary education\n",
      "T2\tMajorClaim 2154 2231\ta more cooperative attitudes towards life is more profitable in one's success\n",
      "T3\tClaim 591 714\tthrough cooperation, children can learn about interpersonal skills which are significant in the future life of all students\n",
      "A1\tStance T3 For\n",
      "T4\tPremise 716 851\tWhat we acquired from team work is not only how to achieve the same goal with others but more importantly, how to get along with others\n",
      "T5\tPremise 853 1086\tDuring the process of cooperation, children can learn about how to listen to opinions of others, how to communicate with others, how to think comprehensively, and even how to compromise with other team members when conflicts occurred\n",
      "T6\tPremise 1088 1191\tAll of these skills help them to get on well with other people and will benefit them for the whole life\n",
      "R1\tsupports Arg1:T4 Arg2:T3\t\n",
      "R2\tsupports Arg1:T5 Arg2:T3\t\n",
      "R3\tsupports Arg1:T6 Arg2:T3\t\n",
      "T7\tClaim 1332 1376\tcompetition makes the society more effective\n",
      "A2\tStance T7 Against\n",
      "T8\tPremise 1212 1301\tthe significance of competition is that how to become more excellence to gain the victory\n",
      "T9\tPremise 1387 1492\twhen we consider about the question that how to win the game, we always find that we need the cooperation\n",
      "T10\tPremise 1549 1846\tTake Olympic games which is a form of competition for instance, it is hard to imagine how an athlete could win the game without the training of his or her coach, and the help of other professional staffs such as the people who take care of his diet, and those who are in charge of the medical care\n",
      "T11\tClaim 1927 1992\twithout the cooperation, there would be no victory of competition\n",
      "A3\tStance T11 For\n",
      "R4\tsupports Arg1:T10 Arg2:T11\t\n",
      "R5\tsupports Arg1:T9 Arg2:T11\t\n",
      "R6\tsupports Arg1:T8 Arg2:T7 END\n"
     ]
    }
   ],
   "source": [
    "print(data_df['completion'][0])"
   ]
  },
  {
   "cell_type": "code",
   "execution_count": 8,
   "id": "677e411a-56dc-4c06-9d29-d2ab781f5ff1",
   "metadata": {
    "execution": {
     "iopub.execute_input": "2023-04-10T16:52:00.236043Z",
     "iopub.status.busy": "2023-04-10T16:52:00.235874Z",
     "iopub.status.idle": "2023-04-10T16:52:00.239004Z",
     "shell.execute_reply": "2023-04-10T16:52:00.238698Z",
     "shell.execute_reply.started": "2023-04-10T16:52:00.236031Z"
    },
    "tags": []
   },
   "outputs": [],
   "source": [
    "train, test = train_test_split(data_df, test_size=0.2)"
   ]
  },
  {
   "cell_type": "code",
   "execution_count": 9,
   "id": "8eaabb28-1b67-4585-a2cb-4fbb2c8f237c",
   "metadata": {
    "execution": {
     "iopub.execute_input": "2023-04-10T16:52:02.180107Z",
     "iopub.status.busy": "2023-04-10T16:52:02.179856Z",
     "iopub.status.idle": "2023-04-10T16:52:02.196352Z",
     "shell.execute_reply": "2023-04-10T16:52:02.196015Z",
     "shell.execute_reply.started": "2023-04-10T16:52:02.180087Z"
    }
   },
   "outputs": [],
   "source": [
    "train[['prompt', 'completion']].to_json('../data/proc_data/train_data-complete_task.jsonl', orient='records', lines=True)\n",
    "test[['prompt', 'completion']].to_json('../data/proc_data/test_data-complete_task.jsonl', orient='records', lines=True)"
   ]
  },
  {
   "cell_type": "code",
   "execution_count": 10,
   "id": "7fd146d6-2e6e-42d5-8914-fcc5ab245aee",
   "metadata": {
    "execution": {
     "iopub.execute_input": "2023-04-10T16:52:05.539602Z",
     "iopub.status.busy": "2023-04-10T16:52:05.539435Z",
     "iopub.status.idle": "2023-04-10T16:52:06.274955Z",
     "shell.execute_reply": "2023-04-10T16:52:06.274479Z",
     "shell.execute_reply.started": "2023-04-10T16:52:05.539591Z"
    }
   },
   "outputs": [],
   "source": [
    "from nltk.tokenize import word_tokenize\n",
    "\n",
    "prompt_tokens = pd.Series([len(word_tokenize(prompt)) for prompt in data_df['prompt'].to_list()])\n",
    "completion_tokens = pd.Series([len(word_tokenize(completion)) for completion in data_df['completion'].to_list()])"
   ]
  },
  {
   "cell_type": "code",
   "execution_count": 11,
   "id": "dcdc5c4a-4477-4011-b4ac-6c56e2014bf7",
   "metadata": {
    "execution": {
     "iopub.execute_input": "2023-04-10T16:52:06.379578Z",
     "iopub.status.busy": "2023-04-10T16:52:06.379420Z",
     "iopub.status.idle": "2023-04-10T16:52:06.637559Z",
     "shell.execute_reply": "2023-04-10T16:52:06.637288Z",
     "shell.execute_reply.started": "2023-04-10T16:52:06.379567Z"
    }
   },
   "outputs": [
    {
     "data": {
      "text/plain": [
       "<Axes: >"
      ]
     },
     "execution_count": 11,
     "metadata": {},
     "output_type": "execute_result"
    },
    {
     "data": {
      "image/png": "[encoded data removed]",
      "text/plain": [
       "<Figure size 640x480 with 1 Axes>"
      ]
     },
     "metadata": {},
     "output_type": "display_data"
    }
   ],
   "source": [
    "prompt_tokens.hist()"
   ]
  },
  {
   "cell_type": "code",
   "execution_count": 12,
   "id": "15fd1811-e56e-41e4-84e5-7ff60c012c2c",
   "metadata": {
    "execution": {
     "iopub.execute_input": "2023-04-10T16:52:06.715822Z",
     "iopub.status.busy": "2023-04-10T16:52:06.715585Z",
     "iopub.status.idle": "2023-04-10T16:52:06.806989Z",
     "shell.execute_reply": "2023-04-10T16:52:06.806625Z",
     "shell.execute_reply.started": "2023-04-10T16:52:06.715808Z"
    }
   },
   "outputs": [
    {
     "data": {
      "text/plain": [
       "<Axes: >"
      ]
     },
     "execution_count": 12,
     "metadata": {},
     "output_type": "execute_result"
    },
    {
     "data": {
      "image/png": "[encoded data removed]",
      "text/plain": [
       "<Figure size 640x480 with 1 Axes>"
      ]
     },
     "metadata": {},
     "output_type": "display_data"
    }
   ],
   "source": [
    "completion_tokens.hist()"
   ]
  },
  {
   "cell_type": "code",
   "execution_count": 13,
   "id": "c12707fe-42db-4aa6-9636-cff32ab2d384",
   "metadata": {
    "execution": {
     "iopub.execute_input": "2023-04-10T16:52:09.179891Z",
     "iopub.status.busy": "2023-04-10T16:52:09.179721Z",
     "iopub.status.idle": "2023-04-10T16:52:09.182747Z",
     "shell.execute_reply": "2023-04-10T16:52:09.182196Z",
     "shell.execute_reply.started": "2023-04-10T16:52:09.179875Z"
    }
   },
   "outputs": [
    {
     "name": "stdout",
     "output_type": "stream",
     "text": [
      "\n",
      "Max amount of tokens:\n",
      "\n",
      "    Prompts: 564\n",
      "    Completions: 661\n",
      "\n"
     ]
    }
   ],
   "source": [
    "print(f'''\n",
    "Max amount of tokens:\n",
    "\n",
    "    Prompts: {prompt_tokens.max()}\n",
    "    Completions: {completion_tokens.max()}\n",
    "''')"
   ]
  },
  {
   "cell_type": "markdown",
   "id": "93549ddd-2b2d-430f-9cb1-56884ac81940",
   "metadata": {},
   "source": [
    "### GPT Fine Tune"
   ]
  },
  {
   "cell_type": "code",
   "execution_count": 16,
   "id": "c773b882-9b32-4a86-a137-fb89b1bafeeb",
   "metadata": {
    "execution": {
     "iopub.execute_input": "2023-04-10T16:52:33.929272Z",
     "iopub.status.busy": "2023-04-10T16:52:33.929098Z",
     "iopub.status.idle": "2023-04-10T16:53:38.965508Z",
     "shell.execute_reply": "2023-04-10T16:53:38.965142Z",
     "shell.execute_reply.started": "2023-04-10T16:52:33.929260Z"
    },
    "tags": []
   },
   "outputs": [
    {
     "name": "stdout",
     "output_type": "stream",
     "text": [
      "Upload progress: 100%|████████████████████| 1.35M/1.35M [00:00<00:00, 4.13Git/s]\n",
      "Uploaded file from ../data/proc_data/train_data-complete_task.jsonl: file-SGieU4CbX56BGyeNdcmL2GYX\n",
      "Created fine-tune: ft-nHRo4jzvTNd4KT2X1EJim9Un\n",
      "Streaming events until fine-tuning is complete...\n",
      "\n",
      "(Ctrl-C will interrupt the stream, but not cancel the fine-tune)\n",
      "[2023-04-10 13:50:35] Created fine-tune: ft-nHRo4jzvTNd4KT2X1EJim9Un\n",
      "\n",
      "Stream interrupted (client disconnected).\n",
      "To resume the stream, run:\n",
      "\n",
      "  openai api fine_tunes.follow -i ft-nHRo4jzvTNd4KT2X1EJim9Un\n",
      "\n"
     ]
    }
   ],
   "source": [
    "!openai api fine_tunes.create -t \"../data/proc_data/train_data-complete_task.jsonl\" -m babbage --suffix \"babbage-ft\""
   ]
  },
  {
   "cell_type": "code",
   "execution_count": 23,
   "id": "76eeac92-652d-4d2b-9f98-0f19e45e8ae6",
   "metadata": {
    "execution": {
     "iopub.execute_input": "2023-04-10T17:00:36.008906Z",
     "iopub.status.busy": "2023-04-10T17:00:36.008723Z",
     "iopub.status.idle": "2023-04-10T17:00:53.703978Z",
     "shell.execute_reply": "2023-04-10T17:00:53.703416Z",
     "shell.execute_reply.started": "2023-04-10T17:00:36.008892Z"
    },
    "tags": []
   },
   "outputs": [
    {
     "name": "stdout",
     "output_type": "stream",
     "text": [
      "[2023-04-10 13:50:35] Created fine-tune: ft-nHRo4jzvTNd4KT2X1EJim9Un\n",
      "[2023-04-10 13:52:37] Fine-tune costs $0.77\n",
      "[2023-04-10 13:52:38] Fine-tune enqueued. Queue number: 0\n",
      "[2023-04-10 13:52:43] Fine-tune started\n",
      "[2023-04-10 13:54:24] Completed epoch 1/4\n",
      "[2023-04-10 13:55:45] Completed epoch 2/4\n",
      "[2023-04-10 13:57:06] Completed epoch 3/4\n",
      "[2023-04-10 13:58:27] Completed epoch 4/4\n",
      "[2023-04-10 13:58:48] Uploaded model: babbage:ft-hackfest-gpt:babbage-ft-2023-04-10-16-58-48\n",
      "[2023-04-10 13:58:49] Uploaded result file: file-MQRjfclafLmnxRtl2Zl4vp3t\n",
      "[2023-04-10 13:58:49] Fine-tune succeeded\n",
      "\n",
      "Job complete! Status: succeeded 🎉\n",
      "Try out your fine-tuned model:\n",
      "\n",
      "openai api completions.create -m babbage:ft-hackfest-gpt:babbage-ft-2023-04-10-16-58-48 -p <YOUR_PROMPT>\n"
     ]
    }
   ],
   "source": [
    "! openai api fine_tunes.follow -i ft-nHRo4jzvTNd4KT2X1EJim9Un"
   ]
  },
  {
   "cell_type": "markdown",
   "id": "062af819-c7e8-4c26-bfdf-f5ccf5fe7f5d",
   "metadata": {},
   "source": [
    "### Testing Model"
   ]
  },
  {
   "cell_type": "code",
   "execution_count": 37,
   "id": "aa391419-98cd-4111-9a73-80709b701ce1",
   "metadata": {
    "execution": {
     "iopub.execute_input": "2023-04-10T17:03:27.904032Z",
     "iopub.status.busy": "2023-04-10T17:03:27.903839Z",
     "iopub.status.idle": "2023-04-10T17:03:27.906555Z",
     "shell.execute_reply": "2023-04-10T17:03:27.906169Z",
     "shell.execute_reply.started": "2023-04-10T17:03:27.904018Z"
    },
    "tags": []
   },
   "outputs": [],
   "source": [
    "#prompt = test.sample()['prompt'].values[0]\n",
    "prompt = test['prompt'].values[0]"
   ]
  },
  {
   "cell_type": "code",
   "execution_count": 38,
   "id": "19556ce0-e8f1-408c-911f-09fe80e3a609",
   "metadata": {
    "execution": {
     "iopub.execute_input": "2023-04-10T17:03:28.149821Z",
     "iopub.status.busy": "2023-04-10T17:03:28.149600Z",
     "iopub.status.idle": "2023-04-10T17:03:28.152318Z",
     "shell.execute_reply": "2023-04-10T17:03:28.151779Z",
     "shell.execute_reply.started": "2023-04-10T17:03:28.149801Z"
    },
    "tags": []
   },
   "outputs": [],
   "source": [
    "model = 'babbage:ft-hackfest-gpt:babbage-ft-2023-04-10-16-58-48'"
   ]
  },
  {
   "cell_type": "code",
   "execution_count": 39,
   "id": "0877709a-bad9-4f47-82ed-53a0f86d034e",
   "metadata": {
    "execution": {
     "iopub.execute_input": "2023-04-10T17:03:28.901728Z",
     "iopub.status.busy": "2023-04-10T17:03:28.901550Z",
     "iopub.status.idle": "2023-04-10T17:03:34.365676Z",
     "shell.execute_reply": "2023-04-10T17:03:34.365325Z",
     "shell.execute_reply.started": "2023-04-10T17:03:28.901716Z"
    },
    "tags": []
   },
   "outputs": [],
   "source": [
    "response = openai.Completion.create(\n",
    "    model=model,\n",
    "    prompt=prompt,\n",
    "    temperature=0,\n",
    "    max_tokens=700\n",
    ")"
   ]
  },
  {
   "cell_type": "code",
   "execution_count": 40,
   "id": "42d5beb6-4edc-4f1b-8966-8ce53672bdda",
   "metadata": {
    "execution": {
     "iopub.execute_input": "2023-04-10T17:03:35.993624Z",
     "iopub.status.busy": "2023-04-10T17:03:35.993412Z",
     "iopub.status.idle": "2023-04-10T17:03:35.997064Z",
     "shell.execute_reply": "2023-04-10T17:03:35.996370Z",
     "shell.execute_reply.started": "2023-04-10T17:03:35.993610Z"
    },
    "tags": []
   },
   "outputs": [
    {
     "name": "stdout",
     "output_type": "stream",
     "text": [
      " T1\tMajorClaim 459 521\thuman needs for farmland, housing and industry are more important\n",
      "T2\tMajorClaim 2192 2329\thuman needs for farmland, housing and industry are more important\n",
      "T3\tClaim 2193 2299\tprotecting endangered animals is necessary\n",
      "A1\tStance T3 Against\n",
      "T4\tClaim 2331 2414\thuman needs for farmland, housing and industry are more important\n",
      "A2\tStance T4 For\n",
      "T5\tPremise 2428 2486\twe can invent new technique to help endangered animals to produce offspring to be sure they would not distinct\n",
      "T6\tClaim 533 607\tland used for farmland, housing and industry can benefit more to the whole society\n",
      "A3\tStance T6 For\n",
      "T7\tPremise 609 740\tThere is no deny that the economy of the whole society will be developed with the help of agriculture, real estate industry and industry, in particularly industry which is the pillar industry of national economy\n",
      "T8\tPremise 742 837\tthey produce plenty of profits\n",
      "T9\tPremise 839 923\tWhat is more, the society will be stable and harmony due to more farmland and industry\n",
      "T10\tPremise 925 1038\tIt is widely acknowledged that more farmlands and industries can provide more job opportunities which can decrease the unemployment rate and crime rate\n",
      "T11\tPremise 1040 1095\tthe needs for farmland, housing and industry are more important\n",
      "R1\tsupports Arg1:T7 Arg2:T6\t\n",
      "R2\tsupports Arg1:T8 Arg2:T6\t\n",
      "R3\tsupports Arg1:T9 Arg2:T6\t\n",
      "R4\tsupports Arg1:T10 Arg2:T6\t\n",
      "R5\tsupports Arg1:T11 Arg2:T6\t\n",
      "T12\tClaim 1101 1157\tfarming, housing and industry provide us the food we eat, place we live, clothes we wear, which are essential to live\n",
      "A4\tStance T12 For\n",
      "T13\tPremise 1159 1265\tEspecially in some poor areas, survival is the most significant thing\n",
      "T14\tPremise 1276 1386\thighly developed agriculture and industry can improve our living conditions which allow us have a good quality life\n",
      "R6\tsupports Arg1:T13 Arg2:T12\t\n",
      "R7\tsupports Arg1:T14 Arg2:T12\t\n",
      "T15\tClaim 1398 1493\tlandfall, housing and industry can satisfy the desire of human that living a better life\n",
      "A5\tStance T15 For\n",
      "T16\tPremise 1495 1568\tIt is clearly understood that farming, housing and industry provide us the food we eat, place we live, clothes we wear, which are essential to live\n",
      "T17\tPremise 1570 1650\tIn addition, in some poor areas, survival is the most significant thing\n",
      "T18\tPremise 1665 1749\thighly developed agriculture and industry can improve our living conditions which allow us have a good quality life\n",
      "R8\tsupports Arg1:T16 Arg2:T15\t\n",
      "R9\tsupports Arg1:T17 Arg2:T15\t\n",
      "R10\tsupports Arg1\n"
     ]
    }
   ],
   "source": [
    "print(response['choices'][0].text)"
   ]
  },
  {
   "cell_type": "code",
   "execution_count": 41,
   "id": "c5a72900-c71a-4fca-aa2a-13d3e6bd093a",
   "metadata": {
    "execution": {
     "iopub.execute_input": "2023-04-10T17:04:01.471110Z",
     "iopub.status.busy": "2023-04-10T17:04:01.470950Z",
     "iopub.status.idle": "2023-04-10T17:04:01.473564Z",
     "shell.execute_reply": "2023-04-10T17:04:01.473279Z",
     "shell.execute_reply.started": "2023-04-10T17:04:01.471098Z"
    },
    "tags": []
   },
   "outputs": [
    {
     "name": "stdout",
     "output_type": "stream",
     "text": [
      " T1\tMajorClaim 398 463\thuman needs for farmland, housing and industry are more important\n",
      "T2\tClaim 2121 2163\tprotecting endangered animals is necessary\n",
      "A1\tStance T2 Against\n",
      "T3\tMajorClaim 2179 2244\thuman needs for farmland, housing and industry are more important\n",
      "T4\tPremise 520 602\tland used for farmland, housing and industry can benefit more to the whole society\n",
      "T5\tPremise 626 815\tthe economy of the whole society will be developed with the help of agriculture, real estate industry and industry, in particularly industry which is the pillar industry of national economy\n",
      "T6\tPremise 825 855\tthey produce plenty of profits\n",
      "R1\tsupports Arg1:T6 Arg2:T5\t\n",
      "T7\tPremise 871 943\tthe society will be stable and harmony due to more farmland and industry\n",
      "T8\tPremise 976 1096\tmore farmlands and industries can provide more job opportunities which can decrease the unemployment rate and crime rate\n",
      "R2\tsupports Arg1:T8 Arg2:T7\t\n",
      "T9\tClaim 1103 1166\tthe needs for farmland, housing and industry are more important\n",
      "A3\tStance T9 For\n",
      "R4\tsupports Arg1:T7 Arg2:T9\t\n",
      "T10\tClaim 1176 1264\tfarmland, housing and industry can satisfy the desire of human that living a better life\n",
      "A4\tStance T10 For\n",
      "T11\tPremise 1296 1413\tfarming, housing and industry provide us the food we eat, place we live, clothes we wear, which are essential to live\n",
      "T12\tPremise 1415 1484\tEspecially in some poor areas, survival is the most significant thing\n",
      "T13\tPremise 1499 1614\thighly developed agriculture and industry can improve our living conditions which allow us have a good quality life\n",
      "R6\tsupports Arg1:T11 Arg2:T10\t\n",
      "R7\tsupports Arg1:T12 Arg2:T10\t\n",
      "R8\tsupports Arg1:T13 Arg2:T10\t\n",
      "T14\tClaim 1741 1789\tit can do good to protect the endangered animals\n",
      "A5\tStance T14 For\n",
      "T15\tPremise 1660 1739\tfarmland, housing and industry will occupy the land used for endangered animals\n",
      "R9\tattacks Arg1:T15 Arg2:T14\t\n",
      "T16\tPremise 1823 1882\tagriculture and industry make a contribution to the economy\n",
      "T17\tPremise 1914 1982\twe can have more advanced methods to take care of endangered animals\n",
      "T18\tPremise 1997 2107\twe can invent new technique to help endangered animals to produce offspring to be sure they would not distinct\n",
      "R10\tsupports Arg1:T17 Arg2:T14\t\n",
      "R11\tsupports Arg1:T18 Arg2:T17\t\n",
      "R3\tsupports Arg1:T4 Arg2:T9\t\n",
      "R5\tsupports Arg1:T5 Arg2:T9\t\n",
      "R12\tsupports Arg1:T16 Arg2:T14 END\n"
     ]
    }
   ],
   "source": [
    "print(test['completion'].values[0])"
   ]
  },
  {
   "cell_type": "code",
   "execution_count": 42,
   "id": "e7cb740b-31ab-4940-badd-f2a43edf6f2e",
   "metadata": {
    "execution": {
     "iopub.execute_input": "2023-04-10T17:05:38.221893Z",
     "iopub.status.busy": "2023-04-10T17:05:38.221737Z",
     "iopub.status.idle": "2023-04-10T17:05:38.224552Z",
     "shell.execute_reply": "2023-04-10T17:05:38.224201Z",
     "shell.execute_reply.started": "2023-04-10T17:05:38.221882Z"
    }
   },
   "outputs": [
    {
     "name": "stdout",
     "output_type": "stream",
     "text": [
      "Analyse the following essay:\n",
      "\n",
      "Farmland, housing and industry or saving land for animals?\n",
      "\n",
      "Nowadays, there is a prevailing opinion that human needs for farmland, housing and industry are more important than saving land for endangered animals. People who disagree with the point dispute that the decreasing of land for endangered animals will bring damage to ecological balance. As far as I am concerned, I agree with the opinion human needs for farmland, housing and industry are more important. The reasons are based on the following aspects.\n",
      "First, land used for farmland, housing and industry can benefit more to the whole society. There is no deny that the economy of the whole society will be developed with the help of agriculture, real estate industry and industry, in particularly industry which is the pillar industry of national economy, because they produce plenty of profits. What is more, the society will be stable and harmony due to more farmland and industry. It is widely acknowledged that more farmlands and industries can provide more job opportunities which can decrease the unemployment rate and crime rate. Thus the needs for farmland, housing and industry are more important.\n",
      "Second, farmland, housing and industry can satisfy the desire of human that living a better life. It is clearly understood that farming, housing and industry provide us the food we eat, place we live, clothes we wear, which are essential to live. Especially in some poor areas, survival is the most significant thing. In addition, highly developed agriculture and industry can improve our living conditions which allow us have a good quality life. \n",
      "Last I want to mention is that even though farmland, housing and industry will occupy the land used for endangered animals, it can do good to protect the endangered animals. According to the discuss above, agriculture and industry make a contribution to the economy. With the economy development, we can have more advanced methods to take care of endangered animals. For instant, we can invent new technique to help endangered animals to produce offspring to be sure they would not distinct.\n",
      "All in all, protecting endangered animals is necessary, nevertheless, human needs for farmland, housing and industry are more important.\n",
      "\n",
      "###\n",
      "\n",
      "\n"
     ]
    }
   ],
   "source": [
    "print(test['prompt'].values[0])"
   ]
  },
  {
   "cell_type": "code",
   "execution_count": null,
   "id": "d565875b-9fdf-4c77-a28e-a3ce35402bfe",
   "metadata": {},
   "outputs": [],
   "source": []
  }
 ],
 "metadata": {
  "kernelspec": {
   "display_name": "Python 3 (ipykernel)",
   "language": "python",
   "name": "python3"
  },
  "language_info": {
   "codemirror_mode": {
    "name": "ipython",
    "version": 3
   },
   "file_extension": ".py",
   "mimetype": "text/x-python",
   "name": "python",
   "nbconvert_exporter": "python",
   "pygments_lexer": "ipython3",
   "version": "3.11.2"
  }
 },
 "nbformat": 4,
 "nbformat_minor": 5
}
