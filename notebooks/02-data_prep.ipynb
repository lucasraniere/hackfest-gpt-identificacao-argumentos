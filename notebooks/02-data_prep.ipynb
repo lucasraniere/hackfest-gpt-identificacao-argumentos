{
 "cells": [
  {
   "cell_type": "code",
   "execution_count": 1,
   "id": "9a20223c-11b0-43df-a05b-98ad17503fc1",
   "metadata": {
    "execution": {
     "iopub.execute_input": "2023-04-04T15:11:19.241124Z",
     "iopub.status.busy": "2023-04-04T15:11:19.240961Z",
     "iopub.status.idle": "2023-04-04T15:11:19.664420Z",
     "shell.execute_reply": "2023-04-04T15:11:19.663909Z",
     "shell.execute_reply.started": "2023-04-04T15:11:19.241110Z"
    }
   },
   "outputs": [],
   "source": [
    "import pandas as pd\n",
    "import openai, os, sys\n",
    "from sklearn.model_selection import train_test_split\n",
    "\n",
    "sys.path.insert(1, '../')\n",
    "from auth import auth\n",
    "os.environ['OPENAI_API_KEY'] = auth.SECRET_KEY"
   ]
  },
  {
   "cell_type": "code",
   "execution_count": 2,
   "id": "fc342648-54eb-417a-bd08-c142505cefc3",
   "metadata": {
    "execution": {
     "iopub.execute_input": "2023-04-04T15:11:20.254750Z",
     "iopub.status.busy": "2023-04-04T15:11:20.254385Z",
     "iopub.status.idle": "2023-04-04T15:11:20.256542Z",
     "shell.execute_reply": "2023-04-04T15:11:20.256245Z",
     "shell.execute_reply.started": "2023-04-04T15:11:20.254735Z"
    }
   },
   "outputs": [],
   "source": [
    "DATA_PATH = '../data/essays/'"
   ]
  },
  {
   "cell_type": "code",
   "execution_count": 3,
   "id": "b48f5d1e-a9de-43a3-b9d4-293f82315e7e",
   "metadata": {
    "execution": {
     "iopub.execute_input": "2023-04-04T15:11:21.663931Z",
     "iopub.status.busy": "2023-04-04T15:11:21.663562Z",
     "iopub.status.idle": "2023-04-04T15:11:21.668456Z",
     "shell.execute_reply": "2023-04-04T15:11:21.667927Z",
     "shell.execute_reply.started": "2023-04-04T15:11:21.663910Z"
    }
   },
   "outputs": [
    {
     "name": "stdout",
     "output_type": "stream",
     "text": [
      "\n",
      "Number of essays: 402\n",
      "Number of annotations: 402\n",
      "\n"
     ]
    }
   ],
   "source": [
    "essays = list()\n",
    "annotations = list()\n",
    "\n",
    "for f in os.listdir(DATA_PATH):\n",
    "    if f.endswith('.txt'):\n",
    "        essays.append(f)\n",
    "    elif f.endswith('.ann'):\n",
    "        annotations.append(f)\n",
    "\n",
    "essays.sort()\n",
    "annotations.sort()\n",
    "\n",
    "print(f'''\n",
    "Number of essays: {len(essays)}\n",
    "Number of annotations: {len(annotations)}\n",
    "''')"
   ]
  },
  {
   "cell_type": "code",
   "execution_count": 4,
   "id": "fe29f917-49b1-4000-b82a-c226daa92d99",
   "metadata": {
    "execution": {
     "iopub.execute_input": "2023-04-04T15:11:32.199531Z",
     "iopub.status.busy": "2023-04-04T15:11:32.199371Z",
     "iopub.status.idle": "2023-04-04T15:11:32.214453Z",
     "shell.execute_reply": "2023-04-04T15:11:32.213986Z",
     "shell.execute_reply.started": "2023-04-04T15:11:32.199520Z"
    }
   },
   "outputs": [
    {
     "data": {
      "text/plain": [
       "(402, 2)"
      ]
     },
     "execution_count": 4,
     "metadata": {},
     "output_type": "execute_result"
    }
   ],
   "source": [
    "data = list()\n",
    "\n",
    "for i in range(len(essays)):\n",
    "    with open(DATA_PATH+essays[i], 'r') as e:\n",
    "        prompt = e.read()\n",
    "    with open(DATA_PATH+annotations[i], 'r') as a:\n",
    "        completion = a.read()\n",
    "    data.append((prompt, completion))\n",
    "\n",
    "data_df = pd.DataFrame(columns=['prompt', 'completion'], data=data)\n",
    "data_df.shape"
   ]
  },
  {
   "cell_type": "code",
   "execution_count": 5,
   "id": "3afd770d-88a4-4227-9fa2-6a5bf65844ef",
   "metadata": {
    "execution": {
     "iopub.execute_input": "2023-04-04T15:11:40.961662Z",
     "iopub.status.busy": "2023-04-04T15:11:40.961495Z",
     "iopub.status.idle": "2023-04-04T15:11:40.967773Z",
     "shell.execute_reply": "2023-04-04T15:11:40.967345Z",
     "shell.execute_reply.started": "2023-04-04T15:11:40.961647Z"
    }
   },
   "outputs": [
    {
     "data": {
      "text/html": [
       "<div>\n",
       "<style scoped>\n",
       "    .dataframe tbody tr th:only-of-type {\n",
       "        vertical-align: middle;\n",
       "    }\n",
       "\n",
       "    .dataframe tbody tr th {\n",
       "        vertical-align: top;\n",
       "    }\n",
       "\n",
       "    .dataframe thead th {\n",
       "        text-align: right;\n",
       "    }\n",
       "</style>\n",
       "<table border=\"1\" class=\"dataframe\">\n",
       "  <thead>\n",
       "    <tr style=\"text-align: right;\">\n",
       "      <th></th>\n",
       "      <th>prompt</th>\n",
       "      <th>completion</th>\n",
       "    </tr>\n",
       "  </thead>\n",
       "  <tbody>\n",
       "    <tr>\n",
       "      <th>0</th>\n",
       "      <td>Should students be taught to compete or to coo...</td>\n",
       "      <td>T1\\tMajorClaim 503 575\\twe should attach more ...</td>\n",
       "    </tr>\n",
       "    <tr>\n",
       "      <th>1</th>\n",
       "      <td>More people are migrating to other countries t...</td>\n",
       "      <td>T1\\tMajorClaim 391 489\\tthey are able to susta...</td>\n",
       "    </tr>\n",
       "    <tr>\n",
       "      <th>2</th>\n",
       "      <td>International tourism is now more common than ...</td>\n",
       "      <td>T1\\tMajorClaim 352 475\\tit has contributed to ...</td>\n",
       "    </tr>\n",
       "    <tr>\n",
       "      <th>3</th>\n",
       "      <td>International tourism is now more common than ...</td>\n",
       "      <td>T1\\tMajorClaim 262 376\\tthis industry has affe...</td>\n",
       "    </tr>\n",
       "    <tr>\n",
       "      <th>4</th>\n",
       "      <td>Living and studying overseas\\n\\nIt is every st...</td>\n",
       "      <td>T1\\tMajorClaim 286 359\\tone who studies overse...</td>\n",
       "    </tr>\n",
       "  </tbody>\n",
       "</table>\n",
       "</div>"
      ],
      "text/plain": [
       "                                              prompt  \\\n",
       "0  Should students be taught to compete or to coo...   \n",
       "1  More people are migrating to other countries t...   \n",
       "2  International tourism is now more common than ...   \n",
       "3  International tourism is now more common than ...   \n",
       "4  Living and studying overseas\\n\\nIt is every st...   \n",
       "\n",
       "                                          completion  \n",
       "0  T1\\tMajorClaim 503 575\\twe should attach more ...  \n",
       "1  T1\\tMajorClaim 391 489\\tthey are able to susta...  \n",
       "2  T1\\tMajorClaim 352 475\\tit has contributed to ...  \n",
       "3  T1\\tMajorClaim 262 376\\tthis industry has affe...  \n",
       "4  T1\\tMajorClaim 286 359\\tone who studies overse...  "
      ]
     },
     "execution_count": 5,
     "metadata": {},
     "output_type": "execute_result"
    }
   ],
   "source": [
    "data_df.head()"
   ]
  },
  {
   "cell_type": "code",
   "execution_count": 14,
   "id": "2757cfaf-c0cd-413d-a93e-b7754416fff6",
   "metadata": {},
   "outputs": [],
   "source": [
    "train, test = train_test_split(data_df, test_size=0.2)"
   ]
  },
  {
   "cell_type": "code",
   "execution_count": 15,
   "id": "581d0862-2411-4d42-93dd-4b5f4e31d666",
   "metadata": {},
   "outputs": [],
   "source": [
    "train.to_json('../data/proc_data/train_data.jsonl', orient='records', lines=True)\n",
    "test.to_json('../data/proc_data/test_data.jsonl', orient='records', lines=True)"
   ]
  },
  {
   "cell_type": "code",
   "execution_count": 23,
   "id": "83a8eb63-3ea2-43e3-bff2-1f53f50f07dc",
   "metadata": {},
   "outputs": [
    {
     "name": "stdout",
     "output_type": "stream",
     "text": [
      "Upload progress: 100%|████████████████████| 1.34M/1.34M [00:00<00:00, 1.74Git/s]\n",
      "Uploaded file from ../data/proc_data/train_data_prepared.jsonl: file-Vl1oey7mNgpDtId5iwgJOEZ0\n",
      "Upload progress: 100%|███████████████████████| 342k/342k [00:00<00:00, 438Mit/s]\n",
      "Uploaded file from ../data/proc_data/test_data_prepared.jsonl: file-y1yYcsRKv59F0iDlVYy3HdRY\n",
      "Created fine-tune: ft-1zDRCjW7lNK3c3JGVpeG6lrv\n",
      "Streaming events until fine-tuning is complete...\n",
      "\n",
      "(Ctrl-C will interrupt the stream, but not cancel the fine-tune)\n",
      "[2023-04-01 15:51:55] Created fine-tune: ft-1zDRCjW7lNK3c3JGVpeG6lrv\n",
      "[2023-04-01 15:52:18] Fine-tune costs $0.51\n",
      "[2023-04-01 15:52:18] Fine-tune enqueued. Queue number: 0\n",
      "[2023-04-01 15:52:20] Fine-tune started\n",
      "\n",
      "Stream interrupted (client disconnected).\n",
      "To resume the stream, run:\n",
      "\n",
      "  openai api fine_tunes.follow -i ft-1zDRCjW7lNK3c3JGVpeG6lrv\n",
      "\n"
     ]
    }
   ],
   "source": [
    "!openai api fine_tunes.create -t \"../data/proc_data/train_data_prepared.jsonl\" -v \"../data/proc_data/test_data_prepared.jsonl\" -m ada --suffix \"model_01\""
   ]
  },
  {
   "cell_type": "code",
   "execution_count": 26,
   "id": "e0172c1d-2434-4d3b-9a8d-efd5e4284e4c",
   "metadata": {},
   "outputs": [
    {
     "name": "stdout",
     "output_type": "stream",
     "text": [
      "[2023-04-01 15:51:55] Created fine-tune: ft-1zDRCjW7lNK3c3JGVpeG6lrv\n",
      "[2023-04-01 15:52:18] Fine-tune costs $0.51\n",
      "[2023-04-01 15:52:18] Fine-tune enqueued. Queue number: 0\n",
      "[2023-04-01 15:52:20] Fine-tune started\n",
      "[2023-04-01 15:53:31] Completed epoch 1/4\n",
      "[2023-04-01 15:54:26] Completed epoch 2/4\n",
      "[2023-04-01 15:55:20] Completed epoch 3/4\n",
      "[2023-04-01 15:56:14] Completed epoch 4/4\n",
      "[2023-04-01 15:56:34] Uploaded model: ada:ft-hackfest-gpt:model-01-2023-04-01-18-56-34\n",
      "[2023-04-01 15:56:35] Uploaded result file: file-O1Ajmpanaxn1qQVrHk5yIvnX\n",
      "[2023-04-01 15:56:35] Fine-tune succeeded\n",
      "\n",
      "Job complete! Status: succeeded 🎉\n",
      "Try out your fine-tuned model:\n",
      "\n",
      "openai api completions.create -m ada:ft-hackfest-gpt:model-01-2023-04-01-18-56-34 -p <YOUR_PROMPT>\n"
     ]
    }
   ],
   "source": [
    "!openai api fine_tunes.follow -i ft-1zDRCjW7lNK3c3JGVpeG6lrv"
   ]
  },
  {
   "cell_type": "code",
   "execution_count": 29,
   "id": "5386876b-1a88-45e9-9dde-9d1b2ba0e9dc",
   "metadata": {},
   "outputs": [],
   "source": [
    "ft_model = 'ada:ft-hackfest-gpt:model-01-2023-04-01-18-56-34'\n",
    "\n",
    "response = openai.Completion.create(model=ft_model, prompt=\"It is always said that competition can effectively promote the development of economy. In order to survive in the competition, companies continue to improve their products and service, and as a result, the whole society prospers. However, when we discuss the issue of competition or cooperation, what we are concerned about is not the whole society, but the development of an individual's whole life. From this point of view, I firmly believe that we should attach more importance to cooperation during primary education.First of all, through cooperation, children can learn about interpersonal skills which are significant in the future life of all students. What we acquired from team work is not only how to achieve the same goal with others but more importantly, how to get along with others. During the process of cooperation, children can learn about how to listen to opinions of others, how to communicate with others, how to think comprehensively, and even how to compromise with other team members when conflicts occurred. All of these skills help them to get on well with other people and will benefit them for the whole life. what are my claims?\", temperature=0, max_tokens=200)"
   ]
  },
  {
   "cell_type": "code",
   "execution_count": 30,
   "id": "f78bc7b0-abe9-4064-8a24-3d9fb1b9ff5a",
   "metadata": {},
   "outputs": [
    {
     "data": {
      "text/plain": [
       "<OpenAIObject text_completion id=cmpl-70almsvqwLw31A0hkco6ZweGV8Pqd at 0x7f04651617f0> JSON: {\n",
       "  \"choices\": [\n",
       "    {\n",
       "      \"finish_reason\": \"length\",\n",
       "      \"index\": 0,\n",
       "      \"logprobs\": null,\n",
       "      \"text\": \"\\nFirst of all, through cooperation, children can learn about interpersonal skills which are significant in the future life of all students\\n\\nThrough cooperation, children can learn about how to listen to opinions of others, how to communicate with others, how to think comprehensively, and even how to compromise with other team members when conflicts occurred\\nAll of these skills help them to get on well with other people and will benefit them for the whole life\\n\\nWhat are my claims?\\n\\nIn order to survive in the competition, companies continue to improve their products and service\\n\\nWhen we discuss the issue of competition or cooperation, what we are concerned about is not the whole society, but the development of an individual's whole life\\n\\nIn order to understand the importance of cooperation during primary education, we should attach more importance to cooperation during primary education\\n\\nThrough cooperation, children can learn about how to listen to opinions of others, how to communicate with others, how to think comprehensively, and even how\"\n",
       "    }\n",
       "  ],\n",
       "  \"created\": 1680375698,\n",
       "  \"id\": \"cmpl-70almsvqwLw31A0hkco6ZweGV8Pqd\",\n",
       "  \"model\": \"ada:ft-hackfest-gpt:model-01-2023-04-01-18-56-34\",\n",
       "  \"object\": \"text_completion\",\n",
       "  \"usage\": {\n",
       "    \"completion_tokens\": 200,\n",
       "    \"prompt_tokens\": 219,\n",
       "    \"total_tokens\": 419\n",
       "  }\n",
       "}"
      ]
     },
     "execution_count": 30,
     "metadata": {},
     "output_type": "execute_result"
    }
   ],
   "source": [
    "response"
   ]
  }
 ],
 "metadata": {
  "kernelspec": {
   "display_name": "Python 3 (ipykernel)",
   "language": "python",
   "name": "python3"
  },
  "language_info": {
   "codemirror_mode": {
    "name": "ipython",
    "version": 3
   },
   "file_extension": ".py",
   "mimetype": "text/x-python",
   "name": "python",
   "nbconvert_exporter": "python",
   "pygments_lexer": "ipython3",
   "version": "3.11.2"
  }
 },
 "nbformat": 4,
 "nbformat_minor": 5
}
