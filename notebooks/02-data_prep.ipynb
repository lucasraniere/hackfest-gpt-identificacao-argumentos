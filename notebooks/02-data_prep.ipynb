{
 "cells": [
  {
   "cell_type": "code",
   "execution_count": 1,
   "id": "9a20223c-11b0-43df-a05b-98ad17503fc1",
   "metadata": {
    "execution": {
     "iopub.execute_input": "2023-04-04T20:00:23.743611Z",
     "iopub.status.busy": "2023-04-04T20:00:23.743331Z",
     "iopub.status.idle": "2023-04-04T20:00:24.245866Z",
     "shell.execute_reply": "2023-04-04T20:00:24.245496Z",
     "shell.execute_reply.started": "2023-04-04T20:00:23.743594Z"
    },
    "tags": []
   },
   "outputs": [],
   "source": [
    "import pandas as pd\n",
    "import openai, os, sys, re\n",
    "from unidecode import unidecode\n",
    "from sklearn.model_selection import train_test_split\n",
    "from brat_parser import get_entities_relations_attributes_groups\n",
    "\n",
    "sys.path.insert(1, '../')\n",
    "from auth import auth\n",
    "os.environ['OPENAI_API_KEY'] = auth.SECRET_KEY"
   ]
  },
  {
   "cell_type": "code",
   "execution_count": 2,
   "id": "fc342648-54eb-417a-bd08-c142505cefc3",
   "metadata": {
    "execution": {
     "iopub.execute_input": "2023-04-04T20:00:24.246614Z",
     "iopub.status.busy": "2023-04-04T20:00:24.246447Z",
     "iopub.status.idle": "2023-04-04T20:00:24.248720Z",
     "shell.execute_reply": "2023-04-04T20:00:24.248324Z",
     "shell.execute_reply.started": "2023-04-04T20:00:24.246603Z"
    },
    "tags": []
   },
   "outputs": [],
   "source": [
    "DATA_PATH = '../data/essays/'"
   ]
  },
  {
   "cell_type": "code",
   "execution_count": 3,
   "id": "b48f5d1e-a9de-43a3-b9d4-293f82315e7e",
   "metadata": {
    "execution": {
     "iopub.execute_input": "2023-04-04T20:00:24.249355Z",
     "iopub.status.busy": "2023-04-04T20:00:24.249230Z",
     "iopub.status.idle": "2023-04-04T20:00:24.259351Z",
     "shell.execute_reply": "2023-04-04T20:00:24.258670Z",
     "shell.execute_reply.started": "2023-04-04T20:00:24.249344Z"
    },
    "tags": []
   },
   "outputs": [
    {
     "name": "stdout",
     "output_type": "stream",
     "text": [
      "\n",
      "Number of essays: 402\n",
      "Number of annotations: 402\n",
      "\n"
     ]
    }
   ],
   "source": [
    "essays = list()\n",
    "annotations = list()\n",
    "\n",
    "for f in os.listdir(DATA_PATH):\n",
    "    if f.endswith('.txt'):\n",
    "        essays.append(f)\n",
    "    elif f.endswith('.ann'):\n",
    "        annotations.append(f)\n",
    "\n",
    "essays.sort()\n",
    "annotations.sort()\n",
    "\n",
    "print(f'''\n",
    "Number of essays: {len(essays)}\n",
    "Number of annotations: {len(annotations)}\n",
    "''')"
   ]
  },
  {
   "cell_type": "code",
   "execution_count": 4,
   "id": "fe29f917-49b1-4000-b82a-c226daa92d99",
   "metadata": {
    "execution": {
     "iopub.execute_input": "2023-04-04T20:00:24.260472Z",
     "iopub.status.busy": "2023-04-04T20:00:24.260251Z",
     "iopub.status.idle": "2023-04-04T20:00:24.275393Z",
     "shell.execute_reply": "2023-04-04T20:00:24.275024Z",
     "shell.execute_reply.started": "2023-04-04T20:00:24.260454Z"
    },
    "tags": []
   },
   "outputs": [
    {
     "data": {
      "text/plain": [
       "(402, 2)"
      ]
     },
     "execution_count": 4,
     "metadata": {},
     "output_type": "execute_result"
    }
   ],
   "source": [
    "data = list()\n",
    "\n",
    "for i in range(len(essays)):\n",
    "    with open(DATA_PATH+essays[i], 'r') as e:\n",
    "        prompt = e.read()\n",
    "    with open(DATA_PATH+annotations[i], 'r') as a:\n",
    "        completion = a.read()\n",
    "    data.append((prompt, completion))\n",
    "\n",
    "data_df = pd.DataFrame(columns=['prompt', 'completion'], data=data)\n",
    "data_df.shape"
   ]
  },
  {
   "cell_type": "code",
   "execution_count": 5,
   "id": "3afd770d-88a4-4227-9fa2-6a5bf65844ef",
   "metadata": {
    "execution": {
     "iopub.execute_input": "2023-04-04T20:00:24.277426Z",
     "iopub.status.busy": "2023-04-04T20:00:24.276848Z",
     "iopub.status.idle": "2023-04-04T20:00:24.283800Z",
     "shell.execute_reply": "2023-04-04T20:00:24.283416Z",
     "shell.execute_reply.started": "2023-04-04T20:00:24.277396Z"
    },
    "tags": []
   },
   "outputs": [
    {
     "data": {
      "text/html": [
       "<div>\n",
       "<style scoped>\n",
       "    .dataframe tbody tr th:only-of-type {\n",
       "        vertical-align: middle;\n",
       "    }\n",
       "\n",
       "    .dataframe tbody tr th {\n",
       "        vertical-align: top;\n",
       "    }\n",
       "\n",
       "    .dataframe thead th {\n",
       "        text-align: right;\n",
       "    }\n",
       "</style>\n",
       "<table border=\"1\" class=\"dataframe\">\n",
       "  <thead>\n",
       "    <tr style=\"text-align: right;\">\n",
       "      <th></th>\n",
       "      <th>prompt</th>\n",
       "      <th>completion</th>\n",
       "    </tr>\n",
       "  </thead>\n",
       "  <tbody>\n",
       "    <tr>\n",
       "      <th>0</th>\n",
       "      <td>Should students be taught to compete or to coo...</td>\n",
       "      <td>T1\\tMajorClaim 503 575\\twe should attach more ...</td>\n",
       "    </tr>\n",
       "    <tr>\n",
       "      <th>1</th>\n",
       "      <td>More people are migrating to other countries t...</td>\n",
       "      <td>T1\\tMajorClaim 391 489\\tthey are able to susta...</td>\n",
       "    </tr>\n",
       "    <tr>\n",
       "      <th>2</th>\n",
       "      <td>International tourism is now more common than ...</td>\n",
       "      <td>T1\\tMajorClaim 352 475\\tit has contributed to ...</td>\n",
       "    </tr>\n",
       "    <tr>\n",
       "      <th>3</th>\n",
       "      <td>International tourism is now more common than ...</td>\n",
       "      <td>T1\\tMajorClaim 262 376\\tthis industry has affe...</td>\n",
       "    </tr>\n",
       "    <tr>\n",
       "      <th>4</th>\n",
       "      <td>Living and studying overseas\\n\\nIt is every st...</td>\n",
       "      <td>T1\\tMajorClaim 286 359\\tone who studies overse...</td>\n",
       "    </tr>\n",
       "  </tbody>\n",
       "</table>\n",
       "</div>"
      ],
      "text/plain": [
       "                                              prompt  \\\n",
       "0  Should students be taught to compete or to coo...   \n",
       "1  More people are migrating to other countries t...   \n",
       "2  International tourism is now more common than ...   \n",
       "3  International tourism is now more common than ...   \n",
       "4  Living and studying overseas\\n\\nIt is every st...   \n",
       "\n",
       "                                          completion  \n",
       "0  T1\\tMajorClaim 503 575\\twe should attach more ...  \n",
       "1  T1\\tMajorClaim 391 489\\tthey are able to susta...  \n",
       "2  T1\\tMajorClaim 352 475\\tit has contributed to ...  \n",
       "3  T1\\tMajorClaim 262 376\\tthis industry has affe...  \n",
       "4  T1\\tMajorClaim 286 359\\tone who studies overse...  "
      ]
     },
     "execution_count": 5,
     "metadata": {},
     "output_type": "execute_result"
    }
   ],
   "source": [
    "data_df.head()"
   ]
  },
  {
   "cell_type": "code",
   "execution_count": 6,
   "id": "60ce81be-36a3-44d9-b30e-58c87ab1d9f0",
   "metadata": {
    "execution": {
     "iopub.execute_input": "2023-04-04T20:00:24.284445Z",
     "iopub.status.busy": "2023-04-04T20:00:24.284269Z",
     "iopub.status.idle": "2023-04-04T20:00:24.287013Z",
     "shell.execute_reply": "2023-04-04T20:00:24.286635Z",
     "shell.execute_reply.started": "2023-04-04T20:00:24.284427Z"
    },
    "tags": []
   },
   "outputs": [
    {
     "name": "stdout",
     "output_type": "stream",
     "text": [
      "Should students be taught to compete or to cooperate?\n",
      "\n",
      "It is always said that competition can effectively promote the development of economy. In order to survive in the competition, companies continue to improve their products and service, and as a result, the whole society prospers. However, when we discuss the issue of competition or cooperation, what we are concerned about is not the whole society, but the development of an individual's whole life. From this point of view, I firmly believe that we should attach more importance to cooperation during primary education.\n",
      "First of all, through cooperation, children can learn about interpersonal skills which are significant in the future life of all students. What we acquired from team work is not only how to achieve the same goal with others but more importantly, how to get along with others. During the process of cooperation, children can learn about how to listen to opinions of others, how to communicate with others, how to think comprehensively, and even how to compromise with other team members when conflicts occurred. All of these skills help them to get on well with other people and will benefit them for the whole life.\n",
      "On the other hand, the significance of competition is that how to become more excellence to gain the victory. Hence it is always said that competition makes the society more effective. However, when we consider about the question that how to win the game, we always find that we need the cooperation. The greater our goal is, the more competition we need. Take Olympic games which is a form of competition for instance, it is hard to imagine how an athlete could win the game without the training of his or her coach, and the help of other professional staffs such as the people who take care of his diet, and those who are in charge of the medical care. The winner is the athlete but the success belongs to the whole team. Therefore without the cooperation, there would be no victory of competition.\n",
      "Consequently, no matter from the view of individual development or the relationship between competition and cooperation we can receive the same conclusion that a more cooperative attitudes towards life is more profitable in one's success.\n"
     ]
    }
   ],
   "source": [
    "# example of essay\n",
    "\n",
    "print(data_df['prompt'][0])"
   ]
  },
  {
   "cell_type": "code",
   "execution_count": 7,
   "id": "a110a58e-1e76-4855-a616-8410d8e01b90",
   "metadata": {
    "execution": {
     "iopub.execute_input": "2023-04-04T20:00:24.287865Z",
     "iopub.status.busy": "2023-04-04T20:00:24.287555Z",
     "iopub.status.idle": "2023-04-04T20:00:24.291091Z",
     "shell.execute_reply": "2023-04-04T20:00:24.290696Z",
     "shell.execute_reply.started": "2023-04-04T20:00:24.287849Z"
    },
    "tags": []
   },
   "outputs": [
    {
     "name": "stdout",
     "output_type": "stream",
     "text": [
      "T1\tMajorClaim 503 575\twe should attach more importance to cooperation during primary education\n",
      "T2\tMajorClaim 2154 2231\ta more cooperative attitudes towards life is more profitable in one's success\n",
      "T3\tClaim 591 714\tthrough cooperation, children can learn about interpersonal skills which are significant in the future life of all students\n",
      "A1\tStance T3 For\n",
      "T4\tPremise 716 851\tWhat we acquired from team work is not only how to achieve the same goal with others but more importantly, how to get along with others\n",
      "T5\tPremise 853 1086\tDuring the process of cooperation, children can learn about how to listen to opinions of others, how to communicate with others, how to think comprehensively, and even how to compromise with other team members when conflicts occurred\n",
      "T6\tPremise 1088 1191\tAll of these skills help them to get on well with other people and will benefit them for the whole life\n",
      "R1\tsupports Arg1:T4 Arg2:T3\t\n",
      "R2\tsupports Arg1:T5 Arg2:T3\t\n",
      "R3\tsupports Arg1:T6 Arg2:T3\t\n",
      "T7\tClaim 1332 1376\tcompetition makes the society more effective\n",
      "A2\tStance T7 Against\n",
      "T8\tPremise 1212 1301\tthe significance of competition is that how to become more excellence to gain the victory\n",
      "T9\tPremise 1387 1492\twhen we consider about the question that how to win the game, we always find that we need the cooperation\n",
      "T10\tPremise 1549 1846\tTake Olympic games which is a form of competition for instance, it is hard to imagine how an athlete could win the game without the training of his or her coach, and the help of other professional staffs such as the people who take care of his diet, and those who are in charge of the medical care\n",
      "T11\tClaim 1927 1992\twithout the cooperation, there would be no victory of competition\n",
      "A3\tStance T11 For\n",
      "R4\tsupports Arg1:T10 Arg2:T11\t\n",
      "R5\tsupports Arg1:T9 Arg2:T11\t\n",
      "R6\tsupports Arg1:T8 Arg2:T7\t\n",
      "\n"
     ]
    }
   ],
   "source": [
    "# example of annotation\n",
    "\n",
    "print(data_df['completion'][0])"
   ]
  },
  {
   "cell_type": "code",
   "execution_count": 8,
   "id": "ef5bc1d8-3425-4275-a724-14760a6c525c",
   "metadata": {
    "execution": {
     "iopub.execute_input": "2023-04-04T20:00:24.291877Z",
     "iopub.status.busy": "2023-04-04T20:00:24.291660Z",
     "iopub.status.idle": "2023-04-04T20:00:24.296207Z",
     "shell.execute_reply": "2023-04-04T20:00:24.295825Z",
     "shell.execute_reply.started": "2023-04-04T20:00:24.291862Z"
    },
    "tags": []
   },
   "outputs": [
    {
     "data": {
      "text/plain": [
       "'More people are migrating to other countries than ever before\\n\\nThe last 50 years have seen an increasing number of immigrants to other countries. People moved due to a number of reasons, namely better educations or higher salary jobs. Some people thought that they should follow the local customs in order to integrate into their adopted countries’ cultures. However I strongly believe that they are able to sustain their cultural identities and doing so help they keep their origin values.\\nFirstly, maintaining one’s cultural identity is a key important rule to help individuals emerge in the new multicultural environments. Take Australia for example, immigrants from varieties of nations have a day called multicultural day where people from each country prepare their food and traditional activities for displaying in the public venues. Many Australians come this day to enjoy the shows, learn about the cultures and admire the diverse values. These feedbacks, in turn, help raise one’s pride of their cultures and help people understand each other more. Thus this makes it clear that sustaining the cultural values of immigrants is paramount essential.\\nSecondly, it is crucial to keep one’s identity for they need a connection back to their country as well as teach their children their value of origin. For instance, children immigrated to a new country will face social troubles in school with new friends. In this new environment, parent should find friends coming from their same country so that they can socialize in a very familiar manner as feeling being home. Fail to create this familiarity makes them felt isolated, in the extreme can lead to social disorder like autism. Hence, it is clear that keeping the cultural traditions in the destination countries is tremendous important.\\nTo conclude, although there are opposing ideas of neglecting one’s cultural values to adapt in the new cultures. As far as I am concerned, sustaining the traditions will make the immigrated people keep their cultural identity and give them confident among the many culture society.'"
      ]
     },
     "execution_count": 8,
     "metadata": {},
     "output_type": "execute_result"
    }
   ],
   "source": [
    "# example of raw essay\n",
    "\n",
    "data_df['prompt'][1]"
   ]
  },
  {
   "cell_type": "code",
   "execution_count": 9,
   "id": "5ce37899-0324-4853-a152-9d01763c4b12",
   "metadata": {
    "execution": {
     "iopub.execute_input": "2023-04-04T20:00:24.296945Z",
     "iopub.status.busy": "2023-04-04T20:00:24.296672Z",
     "iopub.status.idle": "2023-04-04T20:00:24.301120Z",
     "shell.execute_reply": "2023-04-04T20:00:24.300485Z",
     "shell.execute_reply.started": "2023-04-04T20:00:24.296931Z"
    },
    "tags": []
   },
   "outputs": [
    {
     "data": {
      "text/plain": [
       "\"T1\\tMajorClaim 503 575\\twe should attach more importance to cooperation during primary education\\nT2\\tMajorClaim 2154 2231\\ta more cooperative attitudes towards life is more profitable in one's success\\nT3\\tClaim 591 714\\tthrough cooperation, children can learn about interpersonal skills which are significant in the future life of all students\\nA1\\tStance T3 For\\nT4\\tPremise 716 851\\tWhat we acquired from team work is not only how to achieve the same goal with others but more importantly, how to get along with others\\nT5\\tPremise 853 1086\\tDuring the process of cooperation, children can learn about how to listen to opinions of others, how to communicate with others, how to think comprehensively, and even how to compromise with other team members when conflicts occurred\\nT6\\tPremise 1088 1191\\tAll of these skills help them to get on well with other people and will benefit them for the whole life\\nR1\\tsupports Arg1:T4 Arg2:T3\\t\\nR2\\tsupports Arg1:T5 Arg2:T3\\t\\nR3\\tsupports Arg1:T6 Arg2:T3\\t\\nT7\\tClaim 1332 1376\\tcompetition makes the society more effective\\nA2\\tStance T7 Against\\nT8\\tPremise 1212 1301\\tthe significance of competition is that how to become more excellence to gain the victory\\nT9\\tPremise 1387 1492\\twhen we consider about the question that how to win the game, we always find that we need the cooperation\\nT10\\tPremise 1549 1846\\tTake Olympic games which is a form of competition for instance, it is hard to imagine how an athlete could win the game without the training of his or her coach, and the help of other professional staffs such as the people who take care of his diet, and those who are in charge of the medical care\\nT11\\tClaim 1927 1992\\twithout the cooperation, there would be no victory of competition\\nA3\\tStance T11 For\\nR4\\tsupports Arg1:T10 Arg2:T11\\t\\nR5\\tsupports Arg1:T9 Arg2:T11\\t\\nR6\\tsupports Arg1:T8 Arg2:T7\\t\\n\""
      ]
     },
     "execution_count": 9,
     "metadata": {},
     "output_type": "execute_result"
    }
   ],
   "source": [
    "# example of raw annotation\n",
    "\n",
    "data_df['completion'][0]"
   ]
  },
  {
   "cell_type": "code",
   "execution_count": 10,
   "id": "ee5b0149-83d1-4f6a-8390-662dfafd650a",
   "metadata": {
    "execution": {
     "iopub.execute_input": "2023-04-04T20:00:24.301930Z",
     "iopub.status.busy": "2023-04-04T20:00:24.301733Z",
     "iopub.status.idle": "2023-04-04T20:00:24.385002Z",
     "shell.execute_reply": "2023-04-04T20:00:24.384477Z",
     "shell.execute_reply.started": "2023-04-04T20:00:24.301911Z"
    },
    "tags": []
   },
   "outputs": [],
   "source": [
    "# geting annotation atributtes\n",
    "\n",
    "data = list()\n",
    "\n",
    "for ann in annotations:\n",
    "    entities, relations, attributes, groups = get_entities_relations_attributes_groups(DATA_PATH+ann)\n",
    "    data.append(\n",
    "    {\n",
    "        'entities': entities,\n",
    "        'relations': relations,\n",
    "        'attributes': attributes,\n",
    "        'groups': groups\n",
    "    })"
   ]
  },
  {
   "cell_type": "code",
   "execution_count": 11,
   "id": "1f1b5fac-65c7-4312-b79f-23a74dfb352f",
   "metadata": {
    "execution": {
     "iopub.execute_input": "2023-04-04T20:00:24.385610Z",
     "iopub.status.busy": "2023-04-04T20:00:24.385479Z",
     "iopub.status.idle": "2023-04-04T20:00:24.388361Z",
     "shell.execute_reply": "2023-04-04T20:00:24.388016Z",
     "shell.execute_reply.started": "2023-04-04T20:00:24.385592Z"
    },
    "tags": []
   },
   "outputs": [
    {
     "data": {
      "text/plain": [
       "{'entities': {'T1': Entity(id='T1', type='MajorClaim', span=((503, 575),), text='we should attach more importance to cooperation during primary education'),\n",
       "  'T2': Entity(id='T2', type='MajorClaim', span=((2154, 2231),), text=\"a more cooperative attitudes towards life is more profitable in one's success\"),\n",
       "  'T3': Entity(id='T3', type='Claim', span=((591, 714),), text='through cooperation, children can learn about interpersonal skills which are significant in the future life of all students'),\n",
       "  'T4': Entity(id='T4', type='Premise', span=((716, 851),), text='What we acquired from team work is not only how to achieve the same goal with others but more importantly, how to get along with others'),\n",
       "  'T5': Entity(id='T5', type='Premise', span=((853, 1086),), text='During the process of cooperation, children can learn about how to listen to opinions of others, how to communicate with others, how to think comprehensively, and even how to compromise with other team members when conflicts occurred'),\n",
       "  'T6': Entity(id='T6', type='Premise', span=((1088, 1191),), text='All of these skills help them to get on well with other people and will benefit them for the whole life'),\n",
       "  'T7': Entity(id='T7', type='Claim', span=((1332, 1376),), text='competition makes the society more effective'),\n",
       "  'T8': Entity(id='T8', type='Premise', span=((1212, 1301),), text='the significance of competition is that how to become more excellence to gain the victory'),\n",
       "  'T9': Entity(id='T9', type='Premise', span=((1387, 1492),), text='when we consider about the question that how to win the game, we always find that we need the cooperation'),\n",
       "  'T10': Entity(id='T10', type='Premise', span=((1549, 1846),), text='Take Olympic games which is a form of competition for instance, it is hard to imagine how an athlete could win the game without the training of his or her coach, and the help of other professional staffs such as the people who take care of his diet, and those who are in charge of the medical care'),\n",
       "  'T11': Entity(id='T11', type='Claim', span=((1927, 1992),), text='without the cooperation, there would be no victory of competition')},\n",
       " 'relations': {'R1': Relation(id='R1', type='supports', subj='T4', obj='T3'),\n",
       "  'R2': Relation(id='R2', type='supports', subj='T5', obj='T3'),\n",
       "  'R3': Relation(id='R3', type='supports', subj='T6', obj='T3'),\n",
       "  'R4': Relation(id='R4', type='supports', subj='T10', obj='T11'),\n",
       "  'R5': Relation(id='R5', type='supports', subj='T9', obj='T11'),\n",
       "  'R6': Relation(id='R6', type='supports', subj='T8', obj='T7')},\n",
       " 'attributes': {'A1': Attribute(id='A1', type='Stance', target='T3', values=('For',)),\n",
       "  'A2': Attribute(id='A2', type='Stance', target='T7', values=('Against',)),\n",
       "  'A3': Attribute(id='A3', type='Stance', target='T11', values=('For',))},\n",
       " 'groups': {}}"
      ]
     },
     "execution_count": 11,
     "metadata": {},
     "output_type": "execute_result"
    }
   ],
   "source": [
    "data[0]"
   ]
  },
  {
   "cell_type": "code",
   "execution_count": 12,
   "id": "74748c20-b478-40a4-9217-4609f4b5e9b8",
   "metadata": {
    "execution": {
     "iopub.execute_input": "2023-04-04T20:00:24.389078Z",
     "iopub.status.busy": "2023-04-04T20:00:24.388925Z",
     "iopub.status.idle": "2023-04-04T20:00:24.396094Z",
     "shell.execute_reply": "2023-04-04T20:00:24.395487Z",
     "shell.execute_reply.started": "2023-04-04T20:00:24.389063Z"
    },
    "tags": []
   },
   "outputs": [],
   "source": [
    "def annotation_2_string(annotation):\n",
    "    major_claim = list()\n",
    "    claim = list()\n",
    "    premise = list()\n",
    "    for entity in annotation['entities'].keys():\n",
    "        if annotation['entities'][entity].type == 'MajorClaim':\n",
    "            major_claim.append((annotation['entities'][entity].text, annotation['entities'][entity].span))\n",
    "        elif annotation['entities'][entity].type == 'Claim':\n",
    "            claim.append((annotation['entities'][entity].text, annotation['entities'][entity].span))\n",
    "        elif annotation['entities'][entity].type == 'Premise':\n",
    "            premise.append((annotation['entities'][entity].text, annotation['entities'][entity].span))\n",
    "    mc_str = '\\n'.join([f'{txt}, with text span {span[0]}' for txt, span in major_claim])\n",
    "    c_str = '\\n'.join([f'{txt}, with text span {span[0]}' for txt, span in claim])\n",
    "    p_str = '\\n'.join([f'{txt}, with text span {span[0]}' for txt, span in premise])\n",
    "    resulting_completion = f'''The essay main claims are:\n",
    "\n",
    "    {mc_str}\n",
    "\n",
    "    The essay claims are:\n",
    "\n",
    "    {c_str}\n",
    "\n",
    "    The essay premises are:\n",
    "\n",
    "    {p_str}\n",
    "    '''\n",
    "    resulting_completion = re.sub(' +', ' ', resulting_completion)\n",
    "    resulting_completion = re.sub('\\n ', '\\n', resulting_completion)\n",
    "    return resulting_completion"
   ]
  },
  {
   "cell_type": "code",
   "execution_count": 13,
   "id": "73a4b7f6-5f8a-48e2-9223-7a383095ef5f",
   "metadata": {
    "execution": {
     "iopub.execute_input": "2023-04-04T20:00:24.397245Z",
     "iopub.status.busy": "2023-04-04T20:00:24.396823Z",
     "iopub.status.idle": "2023-04-04T20:00:24.429807Z",
     "shell.execute_reply": "2023-04-04T20:00:24.429216Z",
     "shell.execute_reply.started": "2023-04-04T20:00:24.397215Z"
    },
    "tags": []
   },
   "outputs": [
    {
     "name": "stdout",
     "output_type": "stream",
     "text": [
      "The essay main claims are:\n",
      "\n",
      "we should attach more importance to cooperation during primary education, with text span (503, 575)\n",
      "a more cooperative attitudes towards life is more profitable in one's success, with text span (2154, 2231)\n",
      "\n",
      "The essay claims are:\n",
      "\n",
      "through cooperation, children can learn about interpersonal skills which are significant in the future life of all students, with text span (591, 714)\n",
      "competition makes the society more effective, with text span (1332, 1376)\n",
      "without the cooperation, there would be no victory of competition, with text span (1927, 1992)\n",
      "\n",
      "The essay premises are:\n",
      "\n",
      "What we acquired from team work is not only how to achieve the same goal with others but more importantly, how to get along with others, with text span (716, 851)\n",
      "During the process of cooperation, children can learn about how to listen to opinions of others, how to communicate with others, how to think comprehensively, and even how to compromise with other team members when conflicts occurred, with text span (853, 1086)\n",
      "All of these skills help them to get on well with other people and will benefit them for the whole life, with text span (1088, 1191)\n",
      "the significance of competition is that how to become more excellence to gain the victory, with text span (1212, 1301)\n",
      "when we consider about the question that how to win the game, we always find that we need the cooperation, with text span (1387, 1492)\n",
      "Take Olympic games which is a form of competition for instance, it is hard to imagine how an athlete could win the game without the training of his or her coach, and the help of other professional staffs such as the people who take care of his diet, and those who are in charge of the medical care, with text span (1549, 1846)\n",
      "\n"
     ]
    }
   ],
   "source": [
    "data_prep = [annotation_2_string(ann) for ann in data]\n",
    "print(data_prep[0])"
   ]
  },
  {
   "cell_type": "code",
   "execution_count": 14,
   "id": "d3f12993-aef8-4a9b-8b5c-fb3fb826d16d",
   "metadata": {
    "execution": {
     "iopub.execute_input": "2023-04-04T20:00:24.431327Z",
     "iopub.status.busy": "2023-04-04T20:00:24.431203Z",
     "iopub.status.idle": "2023-04-04T20:00:24.434500Z",
     "shell.execute_reply": "2023-04-04T20:00:24.433893Z",
     "shell.execute_reply.started": "2023-04-04T20:00:24.431316Z"
    }
   },
   "outputs": [],
   "source": [
    "data_df['raw_annotations'] = data_df['completion']\n",
    "data_df['completion'] = data_prep"
   ]
  },
  {
   "cell_type": "code",
   "execution_count": 15,
   "id": "22a19ccc-0c2e-4555-a06d-2a209f37decf",
   "metadata": {
    "execution": {
     "iopub.execute_input": "2023-04-04T20:00:24.435160Z",
     "iopub.status.busy": "2023-04-04T20:00:24.435017Z",
     "iopub.status.idle": "2023-04-04T20:00:24.441485Z",
     "shell.execute_reply": "2023-04-04T20:00:24.441096Z",
     "shell.execute_reply.started": "2023-04-04T20:00:24.435147Z"
    },
    "tags": []
   },
   "outputs": [
    {
     "data": {
      "text/html": [
       "<div>\n",
       "<style scoped>\n",
       "    .dataframe tbody tr th:only-of-type {\n",
       "        vertical-align: middle;\n",
       "    }\n",
       "\n",
       "    .dataframe tbody tr th {\n",
       "        vertical-align: top;\n",
       "    }\n",
       "\n",
       "    .dataframe thead th {\n",
       "        text-align: right;\n",
       "    }\n",
       "</style>\n",
       "<table border=\"1\" class=\"dataframe\">\n",
       "  <thead>\n",
       "    <tr style=\"text-align: right;\">\n",
       "      <th></th>\n",
       "      <th>prompt</th>\n",
       "      <th>completion</th>\n",
       "      <th>raw_annotations</th>\n",
       "    </tr>\n",
       "  </thead>\n",
       "  <tbody>\n",
       "    <tr>\n",
       "      <th>0</th>\n",
       "      <td>Should students be taught to compete or to coo...</td>\n",
       "      <td>The essay main claims are:\\n\\nwe should attach...</td>\n",
       "      <td>T1\\tMajorClaim 503 575\\twe should attach more ...</td>\n",
       "    </tr>\n",
       "    <tr>\n",
       "      <th>1</th>\n",
       "      <td>More people are migrating to other countries t...</td>\n",
       "      <td>The essay main claims are:\\n\\nthey are able to...</td>\n",
       "      <td>T1\\tMajorClaim 391 489\\tthey are able to susta...</td>\n",
       "    </tr>\n",
       "    <tr>\n",
       "      <th>2</th>\n",
       "      <td>International tourism is now more common than ...</td>\n",
       "      <td>The essay main claims are:\\n\\nit has contribut...</td>\n",
       "      <td>T1\\tMajorClaim 352 475\\tit has contributed to ...</td>\n",
       "    </tr>\n",
       "    <tr>\n",
       "      <th>3</th>\n",
       "      <td>International tourism is now more common than ...</td>\n",
       "      <td>The essay main claims are:\\n\\nthis industry ha...</td>\n",
       "      <td>T1\\tMajorClaim 262 376\\tthis industry has affe...</td>\n",
       "    </tr>\n",
       "    <tr>\n",
       "      <th>4</th>\n",
       "      <td>Living and studying overseas\\n\\nIt is every st...</td>\n",
       "      <td>The essay main claims are:\\n\\none who studies ...</td>\n",
       "      <td>T1\\tMajorClaim 286 359\\tone who studies overse...</td>\n",
       "    </tr>\n",
       "  </tbody>\n",
       "</table>\n",
       "</div>"
      ],
      "text/plain": [
       "                                              prompt  \\\n",
       "0  Should students be taught to compete or to coo...   \n",
       "1  More people are migrating to other countries t...   \n",
       "2  International tourism is now more common than ...   \n",
       "3  International tourism is now more common than ...   \n",
       "4  Living and studying overseas\\n\\nIt is every st...   \n",
       "\n",
       "                                          completion  \\\n",
       "0  The essay main claims are:\\n\\nwe should attach...   \n",
       "1  The essay main claims are:\\n\\nthey are able to...   \n",
       "2  The essay main claims are:\\n\\nit has contribut...   \n",
       "3  The essay main claims are:\\n\\nthis industry ha...   \n",
       "4  The essay main claims are:\\n\\none who studies ...   \n",
       "\n",
       "                                     raw_annotations  \n",
       "0  T1\\tMajorClaim 503 575\\twe should attach more ...  \n",
       "1  T1\\tMajorClaim 391 489\\tthey are able to susta...  \n",
       "2  T1\\tMajorClaim 352 475\\tit has contributed to ...  \n",
       "3  T1\\tMajorClaim 262 376\\tthis industry has affe...  \n",
       "4  T1\\tMajorClaim 286 359\\tone who studies overse...  "
      ]
     },
     "execution_count": 15,
     "metadata": {},
     "output_type": "execute_result"
    }
   ],
   "source": [
    "data_df.head()"
   ]
  },
  {
   "cell_type": "code",
   "execution_count": 16,
   "id": "566022b7-11a4-4f81-9cb5-ace312e6cdfe",
   "metadata": {
    "execution": {
     "iopub.execute_input": "2023-04-04T20:00:24.442154Z",
     "iopub.status.busy": "2023-04-04T20:00:24.442009Z",
     "iopub.status.idle": "2023-04-04T20:00:24.459389Z",
     "shell.execute_reply": "2023-04-04T20:00:24.458755Z",
     "shell.execute_reply.started": "2023-04-04T20:00:24.442140Z"
    },
    "tags": []
   },
   "outputs": [],
   "source": [
    "# preparing prompts\n",
    "\n",
    "data_df['prompt'] = data_df['prompt'].apply(lambda x: unidecode('Analyse the following essay:\\n\\n'+x.rstrip()+'\\n\\n###\\n\\n'))\n",
    "\n",
    "# preparing completion\n",
    "data_df['completion'] = data_df['completion'].apply(lambda x: unidecode(' '+x.rstrip()+' END'))"
   ]
  },
  {
   "cell_type": "code",
   "execution_count": 17,
   "id": "4dd88520-eae4-446b-879a-3f9805e57626",
   "metadata": {
    "execution": {
     "iopub.execute_input": "2023-04-04T20:00:24.460431Z",
     "iopub.status.busy": "2023-04-04T20:00:24.460177Z",
     "iopub.status.idle": "2023-04-04T20:00:24.463921Z",
     "shell.execute_reply": "2023-04-04T20:00:24.463396Z",
     "shell.execute_reply.started": "2023-04-04T20:00:24.460408Z"
    },
    "tags": []
   },
   "outputs": [
    {
     "name": "stdout",
     "output_type": "stream",
     "text": [
      "Analyse the following essay:\n",
      "\n",
      "Should students be taught to compete or to cooperate?\n",
      "\n",
      "It is always said that competition can effectively promote the development of economy. In order to survive in the competition, companies continue to improve their products and service, and as a result, the whole society prospers. However, when we discuss the issue of competition or cooperation, what we are concerned about is not the whole society, but the development of an individual's whole life. From this point of view, I firmly believe that we should attach more importance to cooperation during primary education.\n",
      "First of all, through cooperation, children can learn about interpersonal skills which are significant in the future life of all students. What we acquired from team work is not only how to achieve the same goal with others but more importantly, how to get along with others. During the process of cooperation, children can learn about how to listen to opinions of others, how to communicate with others, how to think comprehensively, and even how to compromise with other team members when conflicts occurred. All of these skills help them to get on well with other people and will benefit them for the whole life.\n",
      "On the other hand, the significance of competition is that how to become more excellence to gain the victory. Hence it is always said that competition makes the society more effective. However, when we consider about the question that how to win the game, we always find that we need the cooperation. The greater our goal is, the more competition we need. Take Olympic games which is a form of competition for instance, it is hard to imagine how an athlete could win the game without the training of his or her coach, and the help of other professional staffs such as the people who take care of his diet, and those who are in charge of the medical care. The winner is the athlete but the success belongs to the whole team. Therefore without the cooperation, there would be no victory of competition.\n",
      "Consequently, no matter from the view of individual development or the relationship between competition and cooperation we can receive the same conclusion that a more cooperative attitudes towards life is more profitable in one's success.\n",
      "\n",
      "###\n",
      "\n",
      "\n"
     ]
    }
   ],
   "source": [
    "print(data_df['prompt'][0])"
   ]
  },
  {
   "cell_type": "code",
   "execution_count": 18,
   "id": "a23c27ba-7bf0-4859-bc3a-20435dc9f334",
   "metadata": {
    "execution": {
     "iopub.execute_input": "2023-04-04T20:00:24.464870Z",
     "iopub.status.busy": "2023-04-04T20:00:24.464555Z",
     "iopub.status.idle": "2023-04-04T20:00:24.468045Z",
     "shell.execute_reply": "2023-04-04T20:00:24.467633Z",
     "shell.execute_reply.started": "2023-04-04T20:00:24.464851Z"
    },
    "tags": []
   },
   "outputs": [
    {
     "name": "stdout",
     "output_type": "stream",
     "text": [
      " The essay main claims are:\n",
      "\n",
      "we should attach more importance to cooperation during primary education, with text span (503, 575)\n",
      "a more cooperative attitudes towards life is more profitable in one's success, with text span (2154, 2231)\n",
      "\n",
      "The essay claims are:\n",
      "\n",
      "through cooperation, children can learn about interpersonal skills which are significant in the future life of all students, with text span (591, 714)\n",
      "competition makes the society more effective, with text span (1332, 1376)\n",
      "without the cooperation, there would be no victory of competition, with text span (1927, 1992)\n",
      "\n",
      "The essay premises are:\n",
      "\n",
      "What we acquired from team work is not only how to achieve the same goal with others but more importantly, how to get along with others, with text span (716, 851)\n",
      "During the process of cooperation, children can learn about how to listen to opinions of others, how to communicate with others, how to think comprehensively, and even how to compromise with other team members when conflicts occurred, with text span (853, 1086)\n",
      "All of these skills help them to get on well with other people and will benefit them for the whole life, with text span (1088, 1191)\n",
      "the significance of competition is that how to become more excellence to gain the victory, with text span (1212, 1301)\n",
      "when we consider about the question that how to win the game, we always find that we need the cooperation, with text span (1387, 1492)\n",
      "Take Olympic games which is a form of competition for instance, it is hard to imagine how an athlete could win the game without the training of his or her coach, and the help of other professional staffs such as the people who take care of his diet, and those who are in charge of the medical care, with text span (1549, 1846) END\n"
     ]
    }
   ],
   "source": [
    "print(data_df['completion'][0])"
   ]
  },
  {
   "cell_type": "code",
   "execution_count": 19,
   "id": "2757cfaf-c0cd-413d-a93e-b7754416fff6",
   "metadata": {
    "execution": {
     "iopub.execute_input": "2023-04-04T20:00:24.468759Z",
     "iopub.status.busy": "2023-04-04T20:00:24.468589Z",
     "iopub.status.idle": "2023-04-04T20:00:24.473195Z",
     "shell.execute_reply": "2023-04-04T20:00:24.472841Z",
     "shell.execute_reply.started": "2023-04-04T20:00:24.468746Z"
    }
   },
   "outputs": [],
   "source": [
    "train, test = train_test_split(data_df, test_size=0.2)"
   ]
  },
  {
   "cell_type": "code",
   "execution_count": 20,
   "id": "581d0862-2411-4d42-93dd-4b5f4e31d666",
   "metadata": {
    "execution": {
     "iopub.execute_input": "2023-04-04T20:00:24.473689Z",
     "iopub.status.busy": "2023-04-04T20:00:24.473579Z",
     "iopub.status.idle": "2023-04-04T20:00:24.491726Z",
     "shell.execute_reply": "2023-04-04T20:00:24.491249Z",
     "shell.execute_reply.started": "2023-04-04T20:00:24.473679Z"
    },
    "tags": []
   },
   "outputs": [],
   "source": [
    "train[['prompt', 'completion']].to_json('../data/proc_data/train_data.jsonl', orient='records', lines=True)\n",
    "test[['prompt', 'completion']].to_json('../data/proc_data/test_data.jsonl', orient='records', lines=True)"
   ]
  },
  {
   "cell_type": "code",
   "execution_count": null,
   "id": "3c257b33-1e11-425a-ba58-02637f93db54",
   "metadata": {
    "tags": []
   },
   "outputs": [],
   "source": [
    "# OpenAI data tool\n",
    "\n",
    "!openai tools fine_tunes.prepare_data -f '../data/proc_data/train_data.jsonl'"
   ]
  },
  {
   "cell_type": "code",
   "execution_count": null,
   "id": "83a8eb63-3ea2-43e3-bff2-1f53f50f07dc",
   "metadata": {},
   "outputs": [],
   "source": [
    "!openai api fine_tunes.create -t \"../data/proc_data/train_data_prepared.jsonl\" -v \"../data/proc_data/test_data_prepared.jsonl\" -m ada --suffix \"model_01\""
   ]
  },
  {
   "cell_type": "code",
   "execution_count": null,
   "id": "e0172c1d-2434-4d3b-9a8d-efd5e4284e4c",
   "metadata": {},
   "outputs": [],
   "source": [
    "!openai api fine_tunes.follow -i ft-1zDRCjW7lNK3c3JGVpeG6lrv"
   ]
  },
  {
   "cell_type": "code",
   "execution_count": null,
   "id": "5386876b-1a88-45e9-9dde-9d1b2ba0e9dc",
   "metadata": {},
   "outputs": [],
   "source": [
    "ft_model = 'ada:ft-hackfest-gpt:model-01-2023-04-01-18-56-34'\n",
    "\n",
    "response = openai.Completion.create(model=ft_model, prompt=\"It is always said that competition can effectively promote the development of economy. In order to survive in the competition, companies continue to improve their products and service, and as a result, the whole society prospers. However, when we discuss the issue of competition or cooperation, what we are concerned about is not the whole society, but the development of an individual's whole life. From this point of view, I firmly believe that we should attach more importance to cooperation during primary education.First of all, through cooperation, children can learn about interpersonal skills which are significant in the future life of all students. What we acquired from team work is not only how to achieve the same goal with others but more importantly, how to get along with others. During the process of cooperation, children can learn about how to listen to opinions of others, how to communicate with others, how to think comprehensively, and even how to compromise with other team members when conflicts occurred. All of these skills help them to get on well with other people and will benefit them for the whole life. what are my claims?\", temperature=0, max_tokens=200)"
   ]
  },
  {
   "cell_type": "code",
   "execution_count": null,
   "id": "f78bc7b0-abe9-4064-8a24-3d9fb1b9ff5a",
   "metadata": {},
   "outputs": [],
   "source": [
    "response"
   ]
  }
 ],
 "metadata": {
  "kernelspec": {
   "display_name": "Python 3 (ipykernel)",
   "language": "python",
   "name": "python3"
  },
  "language_info": {
   "codemirror_mode": {
    "name": "ipython",
    "version": 3
   },
   "file_extension": ".py",
   "mimetype": "text/x-python",
   "name": "python",
   "nbconvert_exporter": "python",
   "pygments_lexer": "ipython3",
   "version": "3.11.2"
  }
 },
 "nbformat": 4,
 "nbformat_minor": 5
}
