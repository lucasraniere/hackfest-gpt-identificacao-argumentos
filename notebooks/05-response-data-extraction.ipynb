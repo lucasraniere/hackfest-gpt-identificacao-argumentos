{
 "cells": [
  {
   "cell_type": "code",
   "execution_count": 1,
   "id": "3cde6559-6a5b-4624-8d13-5f7ccc067afa",
   "metadata": {
    "execution": {
     "iopub.execute_input": "2023-04-14T15:18:30.296441Z",
     "iopub.status.busy": "2023-04-14T15:18:30.296266Z",
     "iopub.status.idle": "2023-04-14T15:18:30.302811Z",
     "shell.execute_reply": "2023-04-14T15:18:30.302401Z",
     "shell.execute_reply.started": "2023-04-14T15:18:30.296428Z"
    },
    "tags": []
   },
   "outputs": [],
   "source": [
    "import sys, re\n",
    "\n",
    "sys.path.insert(1, '../')\n",
    "from auth import auth\n",
    "\n",
    "from src.data_extraction import *"
   ]
  },
  {
   "cell_type": "code",
   "execution_count": 2,
   "id": "b63dca38-f3ce-48c9-a210-42dbf52eb71a",
   "metadata": {
    "execution": {
     "iopub.execute_input": "2023-04-14T15:18:30.605911Z",
     "iopub.status.busy": "2023-04-14T15:18:30.605730Z",
     "iopub.status.idle": "2023-04-14T15:18:30.608538Z",
     "shell.execute_reply": "2023-04-14T15:18:30.608238Z",
     "shell.execute_reply.started": "2023-04-14T15:18:30.605899Z"
    },
    "tags": []
   },
   "outputs": [],
   "source": [
    "#response_instance = \" T1\\tMajorClaim 503 575\\twe should attach more importance to cooperation during primary education\\nT2\\tMajorClaim 2154 2231\\ta more cooperative attitudes towards life is more profitable in one's success\\nT3\\tClaim 591 714\\tthrough cooperation, children can learn about interpersonal skills which are significant in the future life of all students\\nA1\\tStance T3 For\\nT4\\tPremise 716 851\\tWhat we acquired from team work is not only how to achieve the same goal with others but more importantly, how to get along with others\\nT5\\tPremise 853 1086\\tDuring the process of cooperation, children can learn about how to listen to opinions of others, how to communicate with others, how to think comprehensively, and even how to compromise with other team members when conflicts occurred\\nT6\\tPremise 1088 1191\\tAll of these skills help them to get on well with other people and will benefit them for the whole life\\nR1\\tsupports Arg1:T4 Arg2:T3\\t\\nR2\\tsupports Arg1:T5 Arg2:T3\\t\\nR3\\tsupports Arg1:T6 Arg2:T3\\t\\nT7\\tClaim 1332 1376\\tcompetition makes the society more effective\\nA2\\tStance T7 Against\\nT8\\tPremise 1212 1301\\tthe significance of competition is that how to become more excellence to gain the victory\\nT9\\tPremise 1387 1492\\twhen we consider about the question that how to win the game, we always find that we need the cooperation\\nT10\\tPremise 1549 1846\\tTake Olympic games which is a form of competition for instance, it is hard to imagine how an athlete could win the game without the training of his or her coach, and the help of other professional staffs such as the people who take care of his diet, and those who are in charge of the medical care\\nT11\\tClaim 1927 1992\\twithout the cooperation, there would be no victory of competition\\nA3\\tStance T11 For\\nR4\\tsupports Arg1:T10 Arg2:T11\\t\\nR5\\tsupports Arg1:T9 Arg2:T11\\t\\nR6\\tsupports Arg1:T8 Arg2:T7 END\"\n",
    "\n",
    "response_instance = \"T1\\tMajorClaim 503 575\\twe should attach more importance to cooperation during primary education\\nT2\\tMajorClaim 2154 2231\\ta more cooperative attitudes towards life is more profitable in one's success\\nT3\\tClaim 591 714\\tthrough cooperation, children can learn about interpersonal skills which are significant in the future life of all students\\nA1\\tStance T3 For\\nT4\\tPremise 716 851\\tWhat we acquired from team work is not only how to achieve the same goal with others but more importantly, how to get along with others\\nT5\\tPremise 853 1086\\tDuring the process of cooperation, children can learn about how to listen to opinions of others, how to communicate with others, how to think comprehensively, and even how to compromise with other team members when conflicts occurred\\nT6\\tPremise 1088 1191\\tAll of these skills help them to get on well with other people and will benefit them for the whole life\\nR1\\tsupports Arg1:T4 Arg2:T3\\t\\nR2\\tsupports Arg1:T5 Arg2:T3\\t\\nR3\\tsupports Arg1:T6 Arg2:T3\\t\\nT7\\tClaim 1332 1376\\tcompetition makes the society more effective\\nA2\\tStance T7 Against\\nT8\\tPremise 1212 1301\\tthe significance of competition is that how to become more excellence to gain the victory\\nT9\\tPremise 1387 1492\\twhen we consider about the question that how to win the game, we always find that we need the cooperation\\nT10\\tPremise 1549 1846\\tTake Olympic games which is a form of competition for instance, it is hard to imagine how an athlete could win the game without the training of his or her coach, and the help of other professional staffs such as the people who take care of his diet, and those who are in charge of the medical care\\nT11\\tClaim 1927 1992\\twithout the cooperation, there would be no victory of competition\\nA3\\tStance T11 For\\nR4\\tsupports Arg1:T10 Arg2:T11\\t\\nR5\\tsupports Arg1:T9 Arg2:T11\\t\\nR6\\tsupports Arg1:T8 Arg2:T7 END\""
   ]
  },
  {
   "cell_type": "code",
   "execution_count": 3,
   "id": "5923526c-989b-42d3-99ea-c8f524e763df",
   "metadata": {
    "execution": {
     "iopub.execute_input": "2023-04-14T15:18:32.052720Z",
     "iopub.status.busy": "2023-04-14T15:18:32.052590Z",
     "iopub.status.idle": "2023-04-14T15:18:32.055354Z",
     "shell.execute_reply": "2023-04-14T15:18:32.054966Z",
     "shell.execute_reply.started": "2023-04-14T15:18:32.052710Z"
    },
    "tags": []
   },
   "outputs": [
    {
     "name": "stdout",
     "output_type": "stream",
     "text": [
      "T1\tMajorClaim 503 575\twe should attach more importance to cooperation during primary education\n",
      "T2\tMajorClaim 2154 2231\ta more cooperative attitudes towards life is more profitable in one's success\n",
      "T3\tClaim 591 714\tthrough cooperation, children can learn about interpersonal skills which are significant in the future life of all students\n",
      "A1\tStance T3 For\n",
      "T4\tPremise 716 851\tWhat we acquired from team work is not only how to achieve the same goal with others but more importantly, how to get along with others\n",
      "T5\tPremise 853 1086\tDuring the process of cooperation, children can learn about how to listen to opinions of others, how to communicate with others, how to think comprehensively, and even how to compromise with other team members when conflicts occurred\n",
      "T6\tPremise 1088 1191\tAll of these skills help them to get on well with other people and will benefit them for the whole life\n",
      "R1\tsupports Arg1:T4 Arg2:T3\t\n",
      "R2\tsupports Arg1:T5 Arg2:T3\t\n",
      "R3\tsupports Arg1:T6 Arg2:T3\t\n",
      "T7\tClaim 1332 1376\tcompetition makes the society more effective\n",
      "A2\tStance T7 Against\n",
      "T8\tPremise 1212 1301\tthe significance of competition is that how to become more excellence to gain the victory\n",
      "T9\tPremise 1387 1492\twhen we consider about the question that how to win the game, we always find that we need the cooperation\n",
      "T10\tPremise 1549 1846\tTake Olympic games which is a form of competition for instance, it is hard to imagine how an athlete could win the game without the training of his or her coach, and the help of other professional staffs such as the people who take care of his diet, and those who are in charge of the medical care\n",
      "T11\tClaim 1927 1992\twithout the cooperation, there would be no victory of competition\n",
      "A3\tStance T11 For\n",
      "R4\tsupports Arg1:T10 Arg2:T11\t\n",
      "R5\tsupports Arg1:T9 Arg2:T11\t\n",
      "R6\tsupports Arg1:T8 Arg2:T7 END\n"
     ]
    }
   ],
   "source": [
    "print(response_instance)"
   ]
  },
  {
   "cell_type": "code",
   "execution_count": 4,
   "id": "f469b2cb-6057-480e-bed1-e2a137f72e5a",
   "metadata": {
    "execution": {
     "iopub.execute_input": "2023-04-14T15:18:33.629028Z",
     "iopub.status.busy": "2023-04-14T15:18:33.628636Z",
     "iopub.status.idle": "2023-04-14T15:18:33.634878Z",
     "shell.execute_reply": "2023-04-14T15:18:33.634293Z",
     "shell.execute_reply.started": "2023-04-14T15:18:33.629013Z"
    },
    "tags": []
   },
   "outputs": [
    {
     "data": {
      "text/plain": [
       "{'t': {'T1': {'type': 'MajorClaim',\n",
       "   'span': ('503', '575'),\n",
       "   'text': 'we should attach more importance to cooperation during primary education'},\n",
       "  'T2': {'type': 'MajorClaim',\n",
       "   'span': ('2154', '2231'),\n",
       "   'text': \"a more cooperative attitudes towards life is more profitable in one's success\"},\n",
       "  'T3': {'type': 'Claim',\n",
       "   'span': ('591', '714'),\n",
       "   'text': 'through cooperation, children can learn about interpersonal skills which are significant in the future life of all students'},\n",
       "  'T4': {'type': 'Premise',\n",
       "   'span': ('716', '851'),\n",
       "   'text': 'What we acquired from team work is not only how to achieve the same goal with others but more importantly, how to get along with others'},\n",
       "  'T5': {'type': 'Premise',\n",
       "   'span': ('853', '1086'),\n",
       "   'text': 'During the process of cooperation, children can learn about how to listen to opinions of others, how to communicate with others, how to think comprehensively, and even how to compromise with other team members when conflicts occurred'},\n",
       "  'T6': {'type': 'Premise',\n",
       "   'span': ('1088', '1191'),\n",
       "   'text': 'All of these skills help them to get on well with other people and will benefit them for the whole life'},\n",
       "  'T7': {'type': 'Claim',\n",
       "   'span': ('1332', '1376'),\n",
       "   'text': 'competition makes the society more effective'},\n",
       "  'T8': {'type': 'Premise',\n",
       "   'span': ('1212', '1301'),\n",
       "   'text': 'the significance of competition is that how to become more excellence to gain the victory'},\n",
       "  'T9': {'type': 'Premise',\n",
       "   'span': ('1387', '1492'),\n",
       "   'text': 'when we consider about the question that how to win the game, we always find that we need the cooperation'},\n",
       "  'T10': {'type': 'Premise',\n",
       "   'span': ('1549', '1846'),\n",
       "   'text': 'Take Olympic games which is a form of competition for instance, it is hard to imagine how an athlete could win the game without the training of his or her coach, and the help of other professional staffs such as the people who take care of his diet, and those who are in charge of the medical care'},\n",
       "  'T11': {'type': 'Claim',\n",
       "   'span': ('1927', '1992'),\n",
       "   'text': 'without the cooperation, there would be no victory of competition'}},\n",
       " 'a': {'A1': {'t': 'T3', 'stance_type': 'For'},\n",
       "  'A2': {'t': 'T7', 'stance_type': 'Against'},\n",
       "  'A3': {'t': 'T11', 'stance_type': 'For'}},\n",
       " 'r': {'R1': {'relation_type': ' supports ', 'arg1': 'T4', 'arg2': 'T3'},\n",
       "  'R2': {'relation_type': ' supports ', 'arg1': 'T5', 'arg2': 'T3'},\n",
       "  'R3': {'relation_type': ' supports ', 'arg1': 'T6', 'arg2': 'T3'},\n",
       "  'R4': {'relation_type': ' supports ', 'arg1': 'T10', 'arg2': 'T11'},\n",
       "  'R5': {'relation_type': ' supports ', 'arg1': 'T9', 'arg2': 'T11'},\n",
       "  'R6': {'relation_type': ' supports ', 'arg1': 'T8', 'arg2': 'T7'}}}"
      ]
     },
     "execution_count": 4,
     "metadata": {},
     "output_type": "execute_result"
    }
   ],
   "source": [
    "data = data_organizer(response_instance)\n",
    "data"
   ]
  },
  {
   "cell_type": "markdown",
   "id": "349c5aa2-26ee-44e6-a4ab-42edcdc1d0bc",
   "metadata": {},
   "source": [
    "### Testing with the evaluation data"
   ]
  },
  {
   "cell_type": "code",
   "execution_count": 5,
   "id": "e057866f-fe4b-4f7c-a1e6-c44ed17c4637",
   "metadata": {
    "execution": {
     "iopub.execute_input": "2023-04-14T15:18:36.685002Z",
     "iopub.status.busy": "2023-04-14T15:18:36.684796Z",
     "iopub.status.idle": "2023-04-14T15:18:36.849728Z",
     "shell.execute_reply": "2023-04-14T15:18:36.849254Z",
     "shell.execute_reply.started": "2023-04-14T15:18:36.684988Z"
    }
   },
   "outputs": [],
   "source": [
    "import pandas as pd"
   ]
  },
  {
   "cell_type": "code",
   "execution_count": 6,
   "id": "45096eab-d965-44fc-a44a-489eaf257280",
   "metadata": {
    "execution": {
     "iopub.execute_input": "2023-04-14T15:18:38.684499Z",
     "iopub.status.busy": "2023-04-14T15:18:38.684299Z",
     "iopub.status.idle": "2023-04-14T15:18:38.693609Z",
     "shell.execute_reply": "2023-04-14T15:18:38.693303Z",
     "shell.execute_reply.started": "2023-04-14T15:18:38.684487Z"
    },
    "tags": []
   },
   "outputs": [
    {
     "data": {
      "text/html": [
       "<div>\n",
       "<style scoped>\n",
       "    .dataframe tbody tr th:only-of-type {\n",
       "        vertical-align: middle;\n",
       "    }\n",
       "\n",
       "    .dataframe tbody tr th {\n",
       "        vertical-align: top;\n",
       "    }\n",
       "\n",
       "    .dataframe thead th {\n",
       "        text-align: right;\n",
       "    }\n",
       "</style>\n",
       "<table border=\"1\" class=\"dataframe\">\n",
       "  <thead>\n",
       "    <tr style=\"text-align: right;\">\n",
       "      <th></th>\n",
       "      <th>prompt</th>\n",
       "      <th>completion</th>\n",
       "    </tr>\n",
       "  </thead>\n",
       "  <tbody>\n",
       "    <tr>\n",
       "      <th>0</th>\n",
       "      <td>Analyse the following essay:\\n\\nFarmland, hous...</td>\n",
       "      <td>T1\\tMajorClaim 398 463\\thuman needs for farml...</td>\n",
       "    </tr>\n",
       "    <tr>\n",
       "      <th>1</th>\n",
       "      <td>Analyse the following essay:\\n\\nEducation play...</td>\n",
       "      <td>T1\\tMajorClaim 323 400\\teducation is the sing...</td>\n",
       "    </tr>\n",
       "    <tr>\n",
       "      <th>2</th>\n",
       "      <td>Analyse the following essay:\\n\\nCompetition or...</td>\n",
       "      <td>T1\\tMajorClaim 2055 2133\\tchildren should be ...</td>\n",
       "    </tr>\n",
       "    <tr>\n",
       "      <th>3</th>\n",
       "      <td>Analyse the following essay:\\n\\nModern technol...</td>\n",
       "      <td>T1\\tMajorClaim 297 413\\tthe affect of technol...</td>\n",
       "    </tr>\n",
       "    <tr>\n",
       "      <th>4</th>\n",
       "      <td>Analyse the following essay:\\n\\nShould high sc...</td>\n",
       "      <td>T1\\tMajorClaim 1999 2093\\tAn integration of m...</td>\n",
       "    </tr>\n",
       "  </tbody>\n",
       "</table>\n",
       "</div>"
      ],
      "text/plain": [
       "                                              prompt  \\\n",
       "0  Analyse the following essay:\\n\\nFarmland, hous...   \n",
       "1  Analyse the following essay:\\n\\nEducation play...   \n",
       "2  Analyse the following essay:\\n\\nCompetition or...   \n",
       "3  Analyse the following essay:\\n\\nModern technol...   \n",
       "4  Analyse the following essay:\\n\\nShould high sc...   \n",
       "\n",
       "                                          completion  \n",
       "0   T1\\tMajorClaim 398 463\\thuman needs for farml...  \n",
       "1   T1\\tMajorClaim 323 400\\teducation is the sing...  \n",
       "2   T1\\tMajorClaim 2055 2133\\tchildren should be ...  \n",
       "3   T1\\tMajorClaim 297 413\\tthe affect of technol...  \n",
       "4   T1\\tMajorClaim 1999 2093\\tAn integration of m...  "
      ]
     },
     "execution_count": 6,
     "metadata": {},
     "output_type": "execute_result"
    }
   ],
   "source": [
    "data = pd.read_json('../data/proc_data/test_data-complete_task.jsonl', lines=True)\n",
    "data.head()"
   ]
  },
  {
   "cell_type": "code",
   "execution_count": 7,
   "id": "bcd03cef-0baf-4145-b5e3-8453ed5ae700",
   "metadata": {
    "execution": {
     "iopub.execute_input": "2023-04-14T15:18:40.180733Z",
     "iopub.status.busy": "2023-04-14T15:18:40.180585Z",
     "iopub.status.idle": "2023-04-14T15:18:40.201071Z",
     "shell.execute_reply": "2023-04-14T15:18:40.200669Z",
     "shell.execute_reply.started": "2023-04-14T15:18:40.180721Z"
    },
    "tags": []
   },
   "outputs": [],
   "source": [
    "extracted_data = list()\n",
    "\n",
    "for c in data['completion'].tolist():\n",
    "    extracted_data.append(data_organizer(c))"
   ]
  },
  {
   "cell_type": "code",
   "execution_count": 8,
   "id": "297b03fc-59b8-45cc-8e60-3a46983a3909",
   "metadata": {
    "execution": {
     "iopub.execute_input": "2023-04-14T15:18:40.900855Z",
     "iopub.status.busy": "2023-04-14T15:18:40.900700Z",
     "iopub.status.idle": "2023-04-14T15:18:40.903633Z",
     "shell.execute_reply": "2023-04-14T15:18:40.903225Z",
     "shell.execute_reply.started": "2023-04-14T15:18:40.900843Z"
    },
    "tags": []
   },
   "outputs": [
    {
     "data": {
      "text/plain": [
       "81"
      ]
     },
     "execution_count": 8,
     "metadata": {},
     "output_type": "execute_result"
    }
   ],
   "source": [
    "len(extracted_data)"
   ]
  },
  {
   "cell_type": "code",
   "execution_count": 11,
   "id": "44ad4209-e321-4ffd-b8b6-5f8e17962c0e",
   "metadata": {
    "execution": {
     "iopub.execute_input": "2023-04-14T15:18:48.875455Z",
     "iopub.status.busy": "2023-04-14T15:18:48.875301Z",
     "iopub.status.idle": "2023-04-14T15:18:48.878791Z",
     "shell.execute_reply": "2023-04-14T15:18:48.878491Z",
     "shell.execute_reply.started": "2023-04-14T15:18:48.875444Z"
    },
    "tags": []
   },
   "outputs": [
    {
     "data": {
      "text/plain": [
       "{'t': {'T1': {'type': 'MajorClaim',\n",
       "   'span': ('297', '413'),\n",
       "   'text': 'the affect of technology on culture is undeniable, it has also contributed to the preservation of traditonal culture'},\n",
       "  'T3': {'type': 'MajorClaim',\n",
       "   'span': ('1676', '1764'),\n",
       "   'text': 'Modern technogy has impacted the traditional cultures in both negative and positive ways'},\n",
       "  'T2': {'type': 'Premise',\n",
       "   'span': ('490', '702'),\n",
       "   'text': 'The invention of mobile phone and internet has changed our traditional ways of communicating as well as working, it has also been much less labourous than in the pass with the assistance of electrical machineries'},\n",
       "  'T4': {'type': 'Premise',\n",
       "   'span': ('713', '778'),\n",
       "   'text': 'these newfangled practices has replaced many old traditional ones'},\n",
       "  'T5': {'type': 'Premise',\n",
       "   'span': ('794', '1049'),\n",
       "   'text': 'factories equipped with new and highly-productive system has replaced old handmade products, the exchange of letters among friends is so hard to be seen as we have had emails and social network instead, new video games has superseded the old-physical ones'},\n",
       "  'T6': {'type': 'Claim',\n",
       "   'span': ('1051', '1137'),\n",
       "   'text': 'Many old traditionally cultural things have long gone as a result of modern technology'},\n",
       "  'T7': {'type': 'Claim',\n",
       "   'span': ('415', '488'),\n",
       "   'text': 'Thanks to modern technology, our life has been improved with many gadgets'},\n",
       "  'T8': {'type': 'Claim',\n",
       "   'span': ('1186', '1295'),\n",
       "   'text': 'technology has also made some contributions to the maintenance and study of traditional cultures in some ways'},\n",
       "  'T9': {'type': 'Premise',\n",
       "   'span': ('1297', '1414'),\n",
       "   'text': 'Internet has aided to assess the young generations to the cultural identity of many nations from all around the world'},\n",
       "  'T10': {'type': 'Premise',\n",
       "   'span': ('1416', '1515'),\n",
       "   'text': 'With the help of advanced methods, many art masterpiece has been well restorated and well preserved'},\n",
       "  'T11': {'type': 'Premise',\n",
       "   'span': ('1517', '1646'),\n",
       "   'text': 'Modern devices also assist the scientists to study the ancient societies much more deeply, hence discovering more cultural traces'}},\n",
       " 'a': {'A1': {'t': 'T7', 'stance_type': 'For'},\n",
       "  'A2': {'t': 'T6', 'stance_type': 'For'},\n",
       "  'A3': {'t': 'T8', 'stance_type': 'For'}},\n",
       " 'r': {'R1': {'relation_type': ' supports ', 'arg1': 'T5', 'arg2': 'T4'},\n",
       "  'R2': {'relation_type': ' supports ', 'arg1': 'T2', 'arg2': 'T7'},\n",
       "  'R3': {'relation_type': ' supports ', 'arg1': 'T4', 'arg2': 'T6'},\n",
       "  'R4': {'relation_type': ' supports ', 'arg1': 'T9', 'arg2': 'T8'},\n",
       "  'R5': {'relation_type': ' supports ', 'arg1': 'T10', 'arg2': 'T8'},\n",
       "  'R6': {'relation_type': ' supports ', 'arg1': 'T11', 'arg2': 'T8'}}}"
      ]
     },
     "execution_count": 11,
     "metadata": {},
     "output_type": "execute_result"
    }
   ],
   "source": [
    "extracted_data[3]"
   ]
  },
  {
   "cell_type": "markdown",
   "id": "720caa90-e180-4e10-8a1e-7bab53427fef",
   "metadata": {},
   "source": [
    "### Testing GPT responses"
   ]
  },
  {
   "cell_type": "code",
   "execution_count": 14,
   "id": "05519f48-7bc2-4ffd-b19e-bfa802644033",
   "metadata": {
    "execution": {
     "iopub.execute_input": "2023-04-14T15:22:32.892010Z",
     "iopub.status.busy": "2023-04-14T15:22:32.891763Z",
     "iopub.status.idle": "2023-04-14T15:22:32.979249Z",
     "shell.execute_reply": "2023-04-14T15:22:32.978710Z",
     "shell.execute_reply.started": "2023-04-14T15:22:32.891992Z"
    },
    "tags": []
   },
   "outputs": [],
   "source": [
    "import os, openai\n",
    "from auth import auth\n",
    "os.environ['OPENAI_API_KEY'] = auth.SECRET_KEY\n",
    "openai.api_key = auth.SECRET_KEY"
   ]
  },
  {
   "cell_type": "code",
   "execution_count": 16,
   "id": "018107be-54e8-4197-9a65-4fc3a2a5bac8",
   "metadata": {
    "execution": {
     "iopub.execute_input": "2023-04-14T15:23:28.720283Z",
     "iopub.status.busy": "2023-04-14T15:23:28.720125Z",
     "iopub.status.idle": "2023-04-14T15:23:28.722727Z",
     "shell.execute_reply": "2023-04-14T15:23:28.722335Z",
     "shell.execute_reply.started": "2023-04-14T15:23:28.720271Z"
    },
    "tags": []
   },
   "outputs": [],
   "source": [
    "model = 'babbage:ft-hackfest-gpt:babbage-ft-2023-04-10-16-58-48'\n",
    "prompts = data['prompt'].tolist()"
   ]
  },
  {
   "cell_type": "code",
   "execution_count": 17,
   "id": "8fb3f9be-8cc3-4ace-ae38-e03fa56003d7",
   "metadata": {
    "execution": {
     "iopub.execute_input": "2023-04-14T15:26:04.881696Z",
     "iopub.status.busy": "2023-04-14T15:26:04.881418Z",
     "iopub.status.idle": "2023-04-14T15:33:34.959905Z",
     "shell.execute_reply": "2023-04-14T15:33:34.959428Z",
     "shell.execute_reply.started": "2023-04-14T15:26:04.881683Z"
    },
    "tags": []
   },
   "outputs": [],
   "source": [
    "gpt_extracted_data = list()\n",
    "\n",
    "for prompt in prompts:\n",
    "    response = openai.Completion.create(\n",
    "        model=model,\n",
    "        prompt=prompt,\n",
    "        temperature=0,\n",
    "        max_tokens=700\n",
    "    )\n",
    "    response_txt = response['choices'][0].text\n",
    "    extracted_data = data_organizer(response_txt)\n",
    "    gpt_extracted_data.append(extracted_data)"
   ]
  },
  {
   "cell_type": "code",
   "execution_count": 23,
   "id": "f617a6b8-257f-47a3-9aca-6491608e43bb",
   "metadata": {
    "execution": {
     "iopub.execute_input": "2023-04-14T15:37:42.659524Z",
     "iopub.status.busy": "2023-04-14T15:37:42.659313Z",
     "iopub.status.idle": "2023-04-14T15:37:42.664502Z",
     "shell.execute_reply": "2023-04-14T15:37:42.664140Z",
     "shell.execute_reply.started": "2023-04-14T15:37:42.659503Z"
    },
    "tags": []
   },
   "outputs": [
    {
     "data": {
      "text/plain": [
       "{'t': {'T1': {'type': 'MajorClaim',\n",
       "   'span': ('459', '521'),\n",
       "   'text': 'students, who spend a great deal of their time studying different academic subjects should have an opportunity to cope with the stress gained during school time'},\n",
       "  'T2': {'type': 'Claim',\n",
       "   'span': ('533', '612'),\n",
       "   'text': 'music can be a useful and interesting solution'},\n",
       "  'T3': {'type': 'Premise',\n",
       "   'span': ('617', '725'),\n",
       "   'text': 'if musical activity involves many participants, there will be co-operation and developed team work in the group, which is, of course, beneficial in their future life'},\n",
       "  'T4': {'type': 'Premise',\n",
       "   'span': ('736', '801'),\n",
       "   'text': 'students with a quite poor academic background can show themselves in the music'},\n",
       "  'T5': {'type': 'Premise',\n",
       "   'span': ('817', '923'),\n",
       "   'text': 'the calm atmosphere in the class might be created'},\n",
       "  'T6': {'type': 'Claim',\n",
       "   'span': ('941', '1045'),\n",
       "   'text': 'music can have many mentally enhancing effects on students'},\n",
       "  'T7': {'type': 'Premise',\n",
       "   'span': ('1047', '1167'),\n",
       "   'text': 'In our hectic life, however, demand is not for musically orientated students, but for academically developed employees'},\n",
       "  'T8': {'type': 'Premise',\n",
       "   'span': ('1182', '1273'),\n",
       "   'text': 'music is the art which requires special attitude towards it'},\n",
       "  'T9': {'type': 'Premise',\n",
       "   'span': ('1275', '1391'),\n",
       "   'text': 'Increasingly however, students can not obtain supposed impacts, unless they get interested in it more seriously'},\n",
       "  'T10': {'type': 'Premise',\n",
       "   'span': ('1409', '1486'),\n",
       "   'text': 'music and other entertaining subjects should be optional'},\n",
       "  'T11': {'type': 'Premise',\n",
       "   'span': ('1488', '1568'),\n",
       "   'text': 'Nowadays, time is the most valuable thing in life with increased pace'},\n",
       "  'T12': {'type': 'Premise',\n",
       "   'span': ('1584', '1678'),\n",
       "   'text': 'students are to develop their professional skills by learning occupation-related subjects, rather than playing on guitar or singing a song'},\n",
       "  'T13': {'type': 'MajorClaim',\n",
       "   'span': ('1702', '1791'),\n",
       "   'text': 'in order to be a competitive worker, students must know their field in an advanced level'},\n",
       "  'T14': {'type': 'Claim',\n",
       "   'span': ('1691', '1701'),\n",
       "   'text': 'music can help an individual to shape its character'},\n",
       "  'T15': {'type': 'Claim',\n",
       "   'span': ('1793', '1878'),\n",
       "   'text': 'An integration of music into learning process bound to be successful when it is not compulsory'},\n",
       "  'T16': {'type': 'Claim',\n",
       "   'span': ('1891', '1954'),\n",
       "   'text': 'music can help an individual to shape its character'},\n",
       "  'T17': {'type': 'Claim',\n",
       "   'span': ('1956', '2045'),\n",
       "   'text': 'An integration of music into learning process bound to be successful when it is not compulsory'},\n",
       "  'T18': {'type': 'Premise',\n",
       "   'span': ('2047', '2134'),\n",
       "   'text': 'it is clear that music can have many mentally enhancing effects on students'}},\n",
       " 'a': {'A1': {'t': 'T2', 'stance_type': 'For'},\n",
       "  'A2': {'t': 'T6', 'stance_type': 'For'},\n",
       "  'A3': {'t': 'T14', 'stance_type': 'For'},\n",
       "  'A4': {'t': 'T15', 'stance_type': 'For END OF LOGIC'},\n",
       "  'A5': {'t': 'T16', 'stance_type': 'For END OF LOGIC'},\n",
       "  'A6': {'t': 'T17', 'stance_type': 'For END OF LOGIC'}},\n",
       " 'r': {'R1': {'relation_type': ' supports ', 'arg1': 'T3', 'arg2': 'T2'},\n",
       "  'R2': {'relation_type': ' supports ', 'arg1': 'T4', 'arg2': 'T2'},\n",
       "  'R3': {'relation_type': ' supports ', 'arg1': 'T5', 'arg2': 'T2'},\n",
       "  'R4': {'relation_type': ' supports ', 'arg1': 'T12', 'arg2': 'T11'},\n",
       "  'R5': {'relation_type': ' supports ', 'arg1': 'T11', 'arg2': 'T6'},\n",
       "  'R6': {'relation_type': ' supports ', 'arg1': 'T10', 'arg2': 'T6'},\n",
       "  'R7': {'relation_type': ' supports ', 'arg1': 'T7', 'arg2': 'T6'},\n",
       "  'R8': {'relation_type': ' supports ', 'arg1': 'T8', 'arg2': 'T6'},\n",
       "  'R9': {'relation_type': ' supports ', 'arg1': 'T9', 'arg2': 'T6'}}}"
      ]
     },
     "execution_count": 23,
     "metadata": {},
     "output_type": "execute_result"
    }
   ],
   "source": [
    "gpt_extracted_data[4]"
   ]
  }
 ],
 "metadata": {
  "kernelspec": {
   "display_name": "Python 3 (ipykernel)",
   "language": "python",
   "name": "python3"
  },
  "language_info": {
   "codemirror_mode": {
    "name": "ipython",
    "version": 3
   },
   "file_extension": ".py",
   "mimetype": "text/x-python",
   "name": "python",
   "nbconvert_exporter": "python",
   "pygments_lexer": "ipython3",
   "version": "3.11.2"
  }
 },
 "nbformat": 4,
 "nbformat_minor": 5
}
