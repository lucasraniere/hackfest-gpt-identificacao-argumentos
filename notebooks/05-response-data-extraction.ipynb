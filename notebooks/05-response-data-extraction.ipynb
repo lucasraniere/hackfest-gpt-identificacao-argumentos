{
 "cells": [
  {
   "cell_type": "code",
   "execution_count": 1,
   "id": "3cde6559-6a5b-4624-8d13-5f7ccc067afa",
   "metadata": {
    "execution": {
     "iopub.execute_input": "2023-04-13T19:40:13.975166Z",
     "iopub.status.busy": "2023-04-13T19:40:13.975072Z",
     "iopub.status.idle": "2023-04-13T19:40:13.982693Z",
     "shell.execute_reply": "2023-04-13T19:40:13.982304Z",
     "shell.execute_reply.started": "2023-04-13T19:40:13.975156Z"
    },
    "tags": []
   },
   "outputs": [],
   "source": [
    "import sys, re\n",
    "\n",
    "sys.path.insert(1, '../')\n",
    "from auth import auth\n",
    "\n",
    "from src.data_extraction import *"
   ]
  },
  {
   "cell_type": "code",
   "execution_count": 2,
   "id": "b63dca38-f3ce-48c9-a210-42dbf52eb71a",
   "metadata": {
    "execution": {
     "iopub.execute_input": "2023-04-13T19:40:14.684899Z",
     "iopub.status.busy": "2023-04-13T19:40:14.684709Z",
     "iopub.status.idle": "2023-04-13T19:40:14.687305Z",
     "shell.execute_reply": "2023-04-13T19:40:14.686901Z",
     "shell.execute_reply.started": "2023-04-13T19:40:14.684887Z"
    }
   },
   "outputs": [],
   "source": [
    "response_instance = \" T1\\tMajorClaim 503 575\\twe should attach more importance to cooperation during primary education\\nT2\\tMajorClaim 2154 2231\\ta more cooperative attitudes towards life is more profitable in one's success\\nT3\\tClaim 591 714\\tthrough cooperation, children can learn about interpersonal skills which are significant in the future life of all students\\nA1\\tStance T3 For\\nT4\\tPremise 716 851\\tWhat we acquired from team work is not only how to achieve the same goal with others but more importantly, how to get along with others\\nT5\\tPremise 853 1086\\tDuring the process of cooperation, children can learn about how to listen to opinions of others, how to communicate with others, how to think comprehensively, and even how to compromise with other team members when conflicts occurred\\nT6\\tPremise 1088 1191\\tAll of these skills help them to get on well with other people and will benefit them for the whole life\\nR1\\tsupports Arg1:T4 Arg2:T3\\t\\nR2\\tsupports Arg1:T5 Arg2:T3\\t\\nR3\\tsupports Arg1:T6 Arg2:T3\\t\\nT7\\tClaim 1332 1376\\tcompetition makes the society more effective\\nA2\\tStance T7 Against\\nT8\\tPremise 1212 1301\\tthe significance of competition is that how to become more excellence to gain the victory\\nT9\\tPremise 1387 1492\\twhen we consider about the question that how to win the game, we always find that we need the cooperation\\nT10\\tPremise 1549 1846\\tTake Olympic games which is a form of competition for instance, it is hard to imagine how an athlete could win the game without the training of his or her coach, and the help of other professional staffs such as the people who take care of his diet, and those who are in charge of the medical care\\nT11\\tClaim 1927 1992\\twithout the cooperation, there would be no victory of competition\\nA3\\tStance T11 For\\nR4\\tsupports Arg1:T10 Arg2:T11\\t\\nR5\\tsupports Arg1:T9 Arg2:T11\\t\\nR6\\tsupports Arg1:T8 Arg2:T7 END\""
   ]
  },
  {
   "cell_type": "code",
   "execution_count": 3,
   "id": "5923526c-989b-42d3-99ea-c8f524e763df",
   "metadata": {
    "execution": {
     "iopub.execute_input": "2023-04-13T19:40:15.348333Z",
     "iopub.status.busy": "2023-04-13T19:40:15.348015Z",
     "iopub.status.idle": "2023-04-13T19:40:15.350707Z",
     "shell.execute_reply": "2023-04-13T19:40:15.350368Z",
     "shell.execute_reply.started": "2023-04-13T19:40:15.348319Z"
    },
    "tags": []
   },
   "outputs": [
    {
     "name": "stdout",
     "output_type": "stream",
     "text": [
      " T1\tMajorClaim 503 575\twe should attach more importance to cooperation during primary education\n",
      "T2\tMajorClaim 2154 2231\ta more cooperative attitudes towards life is more profitable in one's success\n",
      "T3\tClaim 591 714\tthrough cooperation, children can learn about interpersonal skills which are significant in the future life of all students\n",
      "A1\tStance T3 For\n",
      "T4\tPremise 716 851\tWhat we acquired from team work is not only how to achieve the same goal with others but more importantly, how to get along with others\n",
      "T5\tPremise 853 1086\tDuring the process of cooperation, children can learn about how to listen to opinions of others, how to communicate with others, how to think comprehensively, and even how to compromise with other team members when conflicts occurred\n",
      "T6\tPremise 1088 1191\tAll of these skills help them to get on well with other people and will benefit them for the whole life\n",
      "R1\tsupports Arg1:T4 Arg2:T3\t\n",
      "R2\tsupports Arg1:T5 Arg2:T3\t\n",
      "R3\tsupports Arg1:T6 Arg2:T3\t\n",
      "T7\tClaim 1332 1376\tcompetition makes the society more effective\n",
      "A2\tStance T7 Against\n",
      "T8\tPremise 1212 1301\tthe significance of competition is that how to become more excellence to gain the victory\n",
      "T9\tPremise 1387 1492\twhen we consider about the question that how to win the game, we always find that we need the cooperation\n",
      "T10\tPremise 1549 1846\tTake Olympic games which is a form of competition for instance, it is hard to imagine how an athlete could win the game without the training of his or her coach, and the help of other professional staffs such as the people who take care of his diet, and those who are in charge of the medical care\n",
      "T11\tClaim 1927 1992\twithout the cooperation, there would be no victory of competition\n",
      "A3\tStance T11 For\n",
      "R4\tsupports Arg1:T10 Arg2:T11\t\n",
      "R5\tsupports Arg1:T9 Arg2:T11\t\n",
      "R6\tsupports Arg1:T8 Arg2:T7 END\n"
     ]
    }
   ],
   "source": [
    "print(response_instance)"
   ]
  },
  {
   "cell_type": "code",
   "execution_count": 4,
   "id": "f469b2cb-6057-480e-bed1-e2a137f72e5a",
   "metadata": {
    "execution": {
     "iopub.execute_input": "2023-04-13T19:40:17.772204Z",
     "iopub.status.busy": "2023-04-13T19:40:17.771962Z",
     "iopub.status.idle": "2023-04-13T19:40:17.777893Z",
     "shell.execute_reply": "2023-04-13T19:40:17.777379Z",
     "shell.execute_reply.started": "2023-04-13T19:40:17.772176Z"
    },
    "tags": []
   },
   "outputs": [
    {
     "data": {
      "text/plain": [
       "{'t': {'T1': {'type': 'MajorClaim',\n",
       "   'span': ('503', '575'),\n",
       "   'text': 'we should attach more importance to cooperation during primary education'},\n",
       "  'T2': {'type': 'MajorClaim',\n",
       "   'span': ('2154', '2231'),\n",
       "   'text': \"a more cooperative attitudes towards life is more profitable in one's success\"},\n",
       "  'T3': {'type': 'Claim',\n",
       "   'span': ('591', '714'),\n",
       "   'text': 'through cooperation, children can learn about interpersonal skills which are significant in the future life of all students'},\n",
       "  'T4': {'type': 'Premise',\n",
       "   'span': ('716', '851'),\n",
       "   'text': 'What we acquired from team work is not only how to achieve the same goal with others but more importantly, how to get along with others'},\n",
       "  'T5': {'type': 'Premise',\n",
       "   'span': ('853', '1086'),\n",
       "   'text': 'During the process of cooperation, children can learn about how to listen to opinions of others, how to communicate with others, how to think comprehensively, and even how to compromise with other team members when conflicts occurred'},\n",
       "  'T6': {'type': 'Premise',\n",
       "   'span': ('1088', '1191'),\n",
       "   'text': 'All of these skills help them to get on well with other people and will benefit them for the whole life'},\n",
       "  'T7': {'type': 'Claim',\n",
       "   'span': ('1332', '1376'),\n",
       "   'text': 'competition makes the society more effective'},\n",
       "  'T8': {'type': 'Premise',\n",
       "   'span': ('1212', '1301'),\n",
       "   'text': 'the significance of competition is that how to become more excellence to gain the victory'},\n",
       "  'T9': {'type': 'Premise',\n",
       "   'span': ('1387', '1492'),\n",
       "   'text': 'when we consider about the question that how to win the game, we always find that we need the cooperation'},\n",
       "  'T10': {'type': 'Premise',\n",
       "   'span': ('1549', '1846'),\n",
       "   'text': 'Take Olympic games which is a form of competition for instance, it is hard to imagine how an athlete could win the game without the training of his or her coach, and the help of other professional staffs such as the people who take care of his diet, and those who are in charge of the medical care'},\n",
       "  'T11': {'type': 'Claim',\n",
       "   'span': ('1927', '1992'),\n",
       "   'text': 'without the cooperation, there would be no victory of competition'}},\n",
       " 'a': {'A1': {'t': 'T3', 'stance_type': 'For'},\n",
       "  'A2': {'t': 'T7', 'stance_type': 'Against'},\n",
       "  'A3': {'t': 'T11', 'stance_type': 'For'}},\n",
       " 'r': {'R1': {'relation_type': ' supports ', 'arg1': 'T4', 'arg2': 'T3'},\n",
       "  'R2': {'relation_type': ' supports ', 'arg1': 'T5', 'arg2': 'T3'},\n",
       "  'R3': {'relation_type': ' supports ', 'arg1': 'T6', 'arg2': 'T3'},\n",
       "  'R4': {'relation_type': ' supports ', 'arg1': 'T10', 'arg2': 'T11'},\n",
       "  'R5': {'relation_type': ' supports ', 'arg1': 'T9', 'arg2': 'T11'},\n",
       "  'R6': {'relation_type': ' supports ', 'arg1': 'T8', 'arg2': 'T7'}}}"
      ]
     },
     "execution_count": 4,
     "metadata": {},
     "output_type": "execute_result"
    }
   ],
   "source": [
    "data = data_organizer(response_instance)\n",
    "data"
   ]
  },
  {
   "cell_type": "code",
   "execution_count": null,
   "id": "551eff98-34f6-4bf8-a367-b6227e8f694e",
   "metadata": {},
   "outputs": [],
   "source": []
  }
 ],
 "metadata": {
  "kernelspec": {
   "display_name": "Python 3 (ipykernel)",
   "language": "python",
   "name": "python3"
  },
  "language_info": {
   "codemirror_mode": {
    "name": "ipython",
    "version": 3
   },
   "file_extension": ".py",
   "mimetype": "text/x-python",
   "name": "python",
   "nbconvert_exporter": "python",
   "pygments_lexer": "ipython3",
   "version": "3.11.2"
  }
 },
 "nbformat": 4,
 "nbformat_minor": 5
}
