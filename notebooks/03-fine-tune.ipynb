{
 "cells": [
  {
   "cell_type": "markdown",
   "id": "0f3ddf78-a610-4bb3-a948-93954bdea95d",
   "metadata": {},
   "source": [
    "### Fine tuning GPT Model"
   ]
  },
  {
   "cell_type": "code",
   "execution_count": 1,
   "id": "a325be48-29ee-4f18-91e0-6e5c250136bb",
   "metadata": {
    "execution": {
     "iopub.execute_input": "2023-04-04T20:12:43.720928Z",
     "iopub.status.busy": "2023-04-04T20:12:43.720695Z",
     "iopub.status.idle": "2023-04-04T20:12:43.726619Z",
     "shell.execute_reply": "2023-04-04T20:12:43.726321Z",
     "shell.execute_reply.started": "2023-04-04T20:12:43.720909Z"
    },
    "tags": []
   },
   "outputs": [],
   "source": [
    "import sys, os\n",
    "sys.path.insert(1, '../')\n",
    "from auth import auth\n",
    "os.environ['OPENAI_API_KEY'] = auth.SECRET_KEY"
   ]
  },
  {
   "cell_type": "code",
   "execution_count": 2,
   "id": "86ccdaaf-801e-4080-894b-bd4d76ab4cc9",
   "metadata": {
    "execution": {
     "iopub.execute_input": "2023-04-04T20:12:44.598719Z",
     "iopub.status.busy": "2023-04-04T20:12:44.598570Z",
     "iopub.status.idle": "2023-04-04T20:13:05.551346Z",
     "shell.execute_reply": "2023-04-04T20:13:05.551024Z",
     "shell.execute_reply.started": "2023-04-04T20:12:44.598704Z"
    },
    "tags": []
   },
   "outputs": [
    {
     "name": "stdout",
     "output_type": "stream",
     "text": [
      "Found potentially duplicated files with name 'train_data.jsonl', purpose 'fine-tune' and size 1276112 bytes\n",
      "file-QZU1E1n1aC2dARX9h4zS8jmu\n",
      "Enter file ID to reuse an already uploaded file, or an empty string to upload this file anyway: ^C\n",
      "\n"
     ]
    }
   ],
   "source": [
    "!openai api fine_tunes.create -t \"../data/proc_data/train_data.jsonl\" -v \"../data/proc_data/test_data.jsonl\" -m davinci --suffix \"davinci-ft\""
   ]
  },
  {
   "cell_type": "code",
   "execution_count": null,
   "id": "36b803e5-3217-4cdb-bd6a-94cbb2512fa6",
   "metadata": {},
   "outputs": [],
   "source": []
  }
 ],
 "metadata": {
  "kernelspec": {
   "display_name": "Python 3 (ipykernel)",
   "language": "python",
   "name": "python3"
  },
  "language_info": {
   "codemirror_mode": {
    "name": "ipython",
    "version": 3
   },
   "file_extension": ".py",
   "mimetype": "text/x-python",
   "name": "python",
   "nbconvert_exporter": "python",
   "pygments_lexer": "ipython3",
   "version": "3.11.2"
  }
 },
 "nbformat": 4,
 "nbformat_minor": 5
}
