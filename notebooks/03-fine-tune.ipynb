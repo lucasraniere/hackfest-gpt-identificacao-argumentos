{
 "cells": [
  {
   "cell_type": "markdown",
   "id": "0f3ddf78-a610-4bb3-a948-93954bdea95d",
   "metadata": {},
   "source": [
    "### Fine tuning GPT Model"
   ]
  },
  {
   "cell_type": "code",
   "execution_count": 21,
   "id": "a325be48-29ee-4f18-91e0-6e5c250136bb",
   "metadata": {
    "execution": {
     "iopub.execute_input": "2023-04-05T16:16:37.708440Z",
     "iopub.status.busy": "2023-04-05T16:16:37.708308Z",
     "iopub.status.idle": "2023-04-05T16:16:37.926492Z",
     "shell.execute_reply": "2023-04-05T16:16:37.926008Z",
     "shell.execute_reply.started": "2023-04-05T16:16:37.708430Z"
    },
    "tags": []
   },
   "outputs": [],
   "source": [
    "import sys, os, openai\n",
    "sys.path.insert(1, '../')\n",
    "from auth import auth\n",
    "os.environ['OPENAI_API_KEY'] = auth.SECRET_KEY"
   ]
  },
  {
   "cell_type": "code",
   "execution_count": 11,
   "id": "86ccdaaf-801e-4080-894b-bd4d76ab4cc9",
   "metadata": {
    "execution": {
     "iopub.execute_input": "2023-04-05T15:12:25.659733Z",
     "iopub.status.busy": "2023-04-05T15:12:25.659594Z",
     "iopub.status.idle": "2023-04-05T15:13:27.911026Z",
     "shell.execute_reply": "2023-04-05T15:13:27.910517Z",
     "shell.execute_reply.started": "2023-04-05T15:12:25.659721Z"
    },
    "tags": []
   },
   "outputs": [
    {
     "name": "stdout",
     "output_type": "stream",
     "text": [
      "Created fine-tune: ft-w0HxTVdFhm8ihsjTyWDIawcR\n",
      "Streaming events until fine-tuning is complete...\n",
      "\n",
      "(Ctrl-C will interrupt the stream, but not cancel the fine-tune)\n",
      "[2023-04-05 12:10:28] Created fine-tune: ft-w0HxTVdFhm8ihsjTyWDIawcR\n",
      "\n",
      "Stream interrupted (client disconnected).\n",
      "To resume the stream, run:\n",
      "\n",
      "  openai api fine_tunes.follow -i ft-w0HxTVdFhm8ihsjTyWDIawcR\n",
      "\n"
     ]
    }
   ],
   "source": [
    "!openai api fine_tunes.create -t \"file-QZU1E1n1aC2dARX9h4zS8jmu\" -v \"file-ny0Sv5B3pbU204SOXgGyCsEX\" -m babbage --suffix \"babbage-ft\""
   ]
  },
  {
   "cell_type": "code",
   "execution_count": 17,
   "id": "36b803e5-3217-4cdb-bd6a-94cbb2512fa6",
   "metadata": {
    "execution": {
     "iopub.execute_input": "2023-04-05T15:21:02.408944Z",
     "iopub.status.busy": "2023-04-05T15:21:02.408805Z",
     "iopub.status.idle": "2023-04-05T15:21:32.071580Z",
     "shell.execute_reply": "2023-04-05T15:21:32.071054Z",
     "shell.execute_reply.started": "2023-04-05T15:21:02.408933Z"
    },
    "tags": []
   },
   "outputs": [
    {
     "name": "stdout",
     "output_type": "stream",
     "text": [
      "[2023-04-05 12:10:28] Created fine-tune: ft-w0HxTVdFhm8ihsjTyWDIawcR\n",
      "[2023-04-05 12:13:29] Fine-tune costs $0.65\n",
      "[2023-04-05 12:13:29] Fine-tune enqueued. Queue number: 0\n",
      "[2023-04-05 12:13:35] Fine-tune started\n",
      "[2023-04-05 12:15:14] Completed epoch 1/4\n",
      "[2023-04-05 12:16:31] Completed epoch 2/4\n",
      "[2023-04-05 12:17:48] Completed epoch 3/4\n",
      "[2023-04-05 12:19:05] Completed epoch 4/4\n",
      "[2023-04-05 12:19:31] Uploaded model: babbage:ft-hackfest-gpt:babbage-ft-2023-04-05-15-19-30\n",
      "[2023-04-05 12:19:32] Uploaded result file: file-Gw7QGfcWOFKe8C6N3sFYRZnu\n",
      "[2023-04-05 12:19:32] Fine-tune succeeded\n",
      "\n",
      "Job complete! Status: succeeded 🎉\n",
      "Try out your fine-tuned model:\n",
      "\n",
      "openai api completions.create -m babbage:ft-hackfest-gpt:babbage-ft-2023-04-05-15-19-30 -p <YOUR_PROMPT>\n"
     ]
    }
   ],
   "source": [
    "! openai api fine_tunes.follow -i ft-w0HxTVdFhm8ihsjTyWDIawcR"
   ]
  },
  {
   "cell_type": "code",
   "execution_count": 35,
   "id": "3d8d1d2d-e6de-4a9f-8f63-f66f46aa118d",
   "metadata": {
    "execution": {
     "iopub.execute_input": "2023-04-05T16:18:27.550607Z",
     "iopub.status.busy": "2023-04-05T16:18:27.550458Z",
     "iopub.status.idle": "2023-04-05T16:18:27.553210Z",
     "shell.execute_reply": "2023-04-05T16:18:27.552899Z",
     "shell.execute_reply.started": "2023-04-05T16:18:27.550596Z"
    },
    "tags": []
   },
   "outputs": [],
   "source": [
    "prompt = 'Analyse the following essay:\\n\\nMore people are migrating to other countries than ever before\\n\\nThe last 50 years have seen an increasing number of immigrants to other countries. People moved due to a number of reasons, namely better educations or higher salary jobs. Some people thought that they should follow the local customs in order to integrate into their adopted countries’ cultures. However I strongly believe that they are able to sustain their cultural identities and doing so help they keep their origin values.\\nFirstly, maintaining one’s cultural identity is a key important rule to help individuals emerge in the new multicultural environments. Take Australia for example, immigrants from varieties of nations have a day called multicultural day where people from each country prepare their food and traditional activities for displaying in the public venues. Many Australians come this day to enjoy the shows, learn about the cultures and admire the diverse values. These feedbacks, in turn, help raise one’s pride of their cultures and help people understand each other more. Thus this makes it clear that sustaining the cultural values of immigrants is paramount essential.\\nSecondly, it is crucial to keep one’s identity for they need a connection back to their country as well as teach their children their value of origin. For instance, children immigrated to a new country will face social troubles in school with new friends. In this new environment, parent should find friends coming from their same country so that they can socialize in a very familiar manner as feeling being home. Fail to create this familiarity makes them felt isolated, in the extreme can lead to social disorder like autism. Hence, it is clear that keeping the cultural traditions in the destination countries is tremendous important.\\nTo conclude, although there are opposing ideas of neglecting one’s cultural values to adapt in the new cultures. As far as I am concerned, sustaining the traditions will make the immigrated people keep their cultural identity and give them confident among the many culture society.\\n\\n###\\n\\n'\n",
    "\n",
    "model = 'babbage:ft-hackfest-gpt:babbage-ft-2023-04-05-15-19-30'"
   ]
  },
  {
   "cell_type": "code",
   "execution_count": 36,
   "id": "0e3a5889-18fd-4868-ac41-f95310445d8e",
   "metadata": {
    "execution": {
     "iopub.execute_input": "2023-04-05T16:18:30.290956Z",
     "iopub.status.busy": "2023-04-05T16:18:30.290823Z",
     "iopub.status.idle": "2023-04-05T16:18:36.444526Z",
     "shell.execute_reply": "2023-04-05T16:18:36.444064Z",
     "shell.execute_reply.started": "2023-04-05T16:18:30.290946Z"
    },
    "tags": []
   },
   "outputs": [],
   "source": [
    "response = openai.Completion.create(\n",
    "    model=model,\n",
    "    prompt=prompt,\n",
    "    temperature=0,\n",
    "    max_tokens=700\n",
    ")"
   ]
  },
  {
   "cell_type": "code",
   "execution_count": 37,
   "id": "1e75c2b7-865c-4627-adba-2fdaea87a339",
   "metadata": {
    "execution": {
     "iopub.execute_input": "2023-04-05T16:18:46.189473Z",
     "iopub.status.busy": "2023-04-05T16:18:46.189296Z",
     "iopub.status.idle": "2023-04-05T16:18:46.192105Z",
     "shell.execute_reply": "2023-04-05T16:18:46.191794Z",
     "shell.execute_reply.started": "2023-04-05T16:18:46.189461Z"
    },
    "tags": []
   },
   "outputs": [
    {
     "name": "stdout",
     "output_type": "stream",
     "text": [
      " The essay main claims are:\n",
      "\n",
      "they are able to sustain their cultural identities and doing so help they keep their origin values, with text span (386, 496)\n",
      "sustaining the traditions will make the immigrated people keep their cultural identity and give them confident among the many culture society, with text span (1923, 2066)\n",
      "\n",
      "The essay claims are:\n",
      "\n",
      "sustaining the cultural values of immigrants is paramount essential, with text span (1062, 1130)\n",
      "keeping the cultural traditions in the destination countries is tremendous important, with text span (1772, 1845)\n",
      "there are opposing ideas of neglecting one’s cultural values to adapt in the new cultures, with text span (1869, 1942)\n",
      "\n",
      "The essay premises are:\n",
      "\n",
      "maintaining one’s cultural identity is a key important rule to help individuals emerge in the new multicultural environments, with text span (503, 607)\n",
      "Take Australia for example, immigrants from varieties of nations have a day called multicultural day where people from each country prepare their food and traditional activities for displaying in the public venues, with text span (609, 805)\n",
      "Many Australians come this day to enjoy the shows, learn about the cultures and admire the diverse values, with text span (807, 917)\n",
      "These feedbacks, in turn, help raise one’s pride of their cultures and help people understand each other more, with text span (919, 1028)\n",
      "it is crucial to keep one’s identity, with text span (1141, 1175)\n",
      "they need a connection back to their country as well as teach their children their value of origin, with text span (1190, 1295)\n",
      "children immigrated to a new country will face social troubles in school with new friends, with text span (1309, 1399)\n",
      "In this new environment, parent should find friends coming from their same country so that they can socialize in a very familiar manner as feeling being home, with text span (1301, 1451)\n",
      "Fail to create this familiarity makes them felt isolated, in the extreme can lead to social disorder like autism, with text span (1453, 1558) END WITH TEXT BOX\n",
      "\n",
      "The essay premises are:\n",
      "\n",
      "sustaining the cultural values of immigrants is paramount essential, with text span (1295, 1358)\n",
      "keeping the cultural traditions in the destination countries is tremendous important, with text span (1847, 1919)\n",
      "it is clear that keeping the cultural traditions in the destination countries is tremendous important, with text span (1617, 1739)\n",
      "As far as I am concerned, sustaining the traditions will make the immigrated people keep their cultural identity and give them confident among the many culture society, with text span (1944, 2076) END WITH TEXT BOX\n",
      "\n",
      "The essay premises are:\n",
      "\n",
      "maintaining one’s cultural identity is a key important rule to help individuals emerge in the new multicultural environments, with text span (508, 615)\n",
      "sustaining the cultural values of immigrants is paramount essential, with text span (1366, 1431)\n",
      "keeping the cultural traditions in the destination countries is tremendous important, with text span (1821, 1884)\n",
      "it is crucial to keep one’s identity, with text span (1177, 1212)\n",
      "\n"
     ]
    }
   ],
   "source": [
    "print(response['choices'][0].text)"
   ]
  }
 ],
 "metadata": {
  "kernelspec": {
   "display_name": "Python 3 (ipykernel)",
   "language": "python",
   "name": "python3"
  },
  "language_info": {
   "codemirror_mode": {
    "name": "ipython",
    "version": 3
   },
   "file_extension": ".py",
   "mimetype": "text/x-python",
   "name": "python",
   "nbconvert_exporter": "python",
   "pygments_lexer": "ipython3",
   "version": "3.11.2"
  }
 },
 "nbformat": 4,
 "nbformat_minor": 5
}
